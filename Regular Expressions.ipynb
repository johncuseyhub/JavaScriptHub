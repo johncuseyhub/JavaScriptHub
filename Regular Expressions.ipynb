{
 "cells": [
  {
   "cell_type": "markdown",
   "id": "70979b76",
   "metadata": {},
   "source": [
    "# Regular Expressions"
   ]
  },
  {
   "cell_type": "markdown",
   "id": "66a446e6",
   "metadata": {},
   "source": [
    "## RegExp Object\n"
   ]
  },
  {
   "cell_type": "markdown",
   "id": "08ebf302",
   "metadata": {},
   "source": [
    "There are two ways to create a RegExp object: a literal notation and a constructor."
   ]
  },
  {
   "cell_type": "markdown",
   "id": "e8403884",
   "metadata": {},
   "source": [
    "* The first and last / is where the Regular Expression starts and ends."
   ]
  },
  {
   "cell_type": "markdown",
   "id": "d90c6f74",
   "metadata": {},
   "source": [
    "### Literal Notation"
   ]
  },
  {
   "cell_type": "markdown",
   "id": "74068545",
   "metadata": {},
   "source": [
    "/pattern/modifiers;\n",
    "\n",
    "| Parameter     | Description |\n",
    "| ----------- | ----------- |\n",
    "|pattern   | Required. A regular expression is an object that describes a pattern of characters.     |\n",
    "|modifier   | Optional. Modifiers are used to change perform of the Regular Expression. |"
   ]
  },
  {
   "cell_type": "code",
   "execution_count": 8,
   "id": "c8f26721",
   "metadata": {},
   "outputs": [
    {
     "name": "stdout",
     "output_type": "stream",
     "text": [
      "The fat X ran down the street by the Cat Club.\n"
     ]
    }
   ],
   "source": [
    "var p = 'The fat cat ran down the street by the Cat Club.';\n",
    "var regex = /cat/g;\n",
    "console.log(p.replace(regex, 'X'));"
   ]
  },
  {
   "cell_type": "code",
   "execution_count": 9,
   "id": "a0623cf9",
   "metadata": {},
   "outputs": [
    {
     "name": "stdout",
     "output_type": "stream",
     "text": [
      "The fat X ran down the street by the X Club.\n"
     ]
    }
   ],
   "source": [
    "var p = 'The fat cat ran down the street by the Cat Club.';\n",
    "var regex = /cat/gi;\n",
    "console.log(p.replace(regex, 'X'));"
   ]
  },
  {
   "cell_type": "markdown",
   "id": "e9b266c5",
   "metadata": {},
   "source": [
    "### Constructor"
   ]
  },
  {
   "cell_type": "markdown",
   "id": "19b034b3",
   "metadata": {},
   "source": [
    "new RegExp(pattern, modifier)\n",
    "\n",
    "\n",
    "| Parameter     | Description |\n",
    "| ----------- | ----------- |\n",
    "|pattern   | Required. A regular expression is an object that describes a pattern of characters.     |\n",
    "|modifier   | Optional. Modifiers are used to change perform of the Regular Expression. |"
   ]
  },
  {
   "cell_type": "code",
   "execution_count": 10,
   "id": "caccdaf3",
   "metadata": {},
   "outputs": [
    {
     "name": "stdout",
     "output_type": "stream",
     "text": [
      "The fat X ran down the street by the X Club.\n"
     ]
    }
   ],
   "source": [
    "var p = 'The fat cat ran down the street by the Cat Club.';\n",
    "var regex = new RegExp('cat', 'gi')\n",
    "console.log(p.replace(regex, 'X'));"
   ]
  },
  {
   "cell_type": "markdown",
   "id": "8148bc7b",
   "metadata": {},
   "source": [
    "### Methods"
   ]
  },
  {
   "cell_type": "markdown",
   "id": "41546568",
   "metadata": {},
   "source": [
    "### RegExp.prototype.exec()"
   ]
  },
  {
   "cell_type": "markdown",
   "id": "c09cd266",
   "metadata": {},
   "source": [
    "The exec() method executes a search for a match in a specified string. Returns a result array, or null."
   ]
  },
  {
   "cell_type": "code",
   "execution_count": 2,
   "id": "6df031f2",
   "metadata": {},
   "outputs": [
    {
     "name": "stdout",
     "output_type": "stream",
     "text": [
      "Found foo. Next starts at 9.\n",
      "Found foo. Next starts at 19.\n"
     ]
    }
   ],
   "source": [
    "var regex = RegExp('foo*', 'g');\n",
    "var str = 'table football, foosball';\n",
    "var array;\n",
    "\n",
    "while ((array = regex.exec(str)) !== null) {\n",
    "  console.log(`Found ${array[0]}. Next starts at ${regex.lastIndex}.`);\n",
    "  // expected output: \"Found foo. Next starts at 9.\"\n",
    "  // expected output: \"Found foo. Next starts at 19.\"\n",
    "}"
   ]
  },
  {
   "cell_type": "markdown",
   "id": "25445d2b",
   "metadata": {},
   "source": [
    "### RegExp.prototype.test()"
   ]
  },
  {
   "cell_type": "markdown",
   "id": "e04135fa",
   "metadata": {},
   "source": [
    "The test() method executes a search for a match between a regular expression and a specified string."
   ]
  },
  {
   "cell_type": "code",
   "execution_count": 3,
   "id": "d313b544",
   "metadata": {},
   "outputs": [
    {
     "name": "stdout",
     "output_type": "stream",
     "text": [
      "true\n",
      "9\n"
     ]
    }
   ],
   "source": [
    "var str = 'table football';\n",
    "\n",
    "var regex = new RegExp('foo*', 'g');\n",
    "\n",
    "console.log(regex.test(str));\n",
    "// expected output: true\n",
    "\n",
    "console.log(regex.lastIndex);"
   ]
  },
  {
   "cell_type": "markdown",
   "id": "c0462165",
   "metadata": {},
   "source": [
    "### String.prototype.match()"
   ]
  },
  {
   "cell_type": "markdown",
   "id": "340f01a0",
   "metadata": {},
   "source": [
    "The match() method retrieves the result of matching a string against a regular expression."
   ]
  },
  {
   "cell_type": "code",
   "execution_count": 1,
   "id": "113a8fb6",
   "metadata": {},
   "outputs": [
    {
     "name": "stdout",
     "output_type": "stream",
     "text": [
      "[ 'T', 'I' ]\n"
     ]
    }
   ],
   "source": [
    "var paragraph = 'The quick brown fox jumps over the lazy dog. It barked.';\n",
    "var regex = /[A-Z]/g;\n",
    "\n",
    "console.log(paragraph.match(regex) );"
   ]
  },
  {
   "cell_type": "code",
   "execution_count": null,
   "id": "a60b143b",
   "metadata": {},
   "outputs": [],
   "source": [
    "### String.prototype.matchAll()"
   ]
  },
  {
   "cell_type": "markdown",
   "id": "1c64b46c",
   "metadata": {},
   "source": [
    "The matchAll() method returns an iterator of all results matching a string against a regular expression,\n",
    "including capturing groups."
   ]
  },
  {
   "cell_type": "code",
   "execution_count": 6,
   "id": "33c46f1f",
   "metadata": {},
   "outputs": [
    {
     "name": "stdout",
     "output_type": "stream",
     "text": [
      "array[0]: test1,e,st1,1\n",
      "array[1]: test2,e,st2,2\n"
     ]
    }
   ],
   "source": [
    "var regexp = /t(e)(st(\\d?))/g;\n",
    "var str = 'test1test2';\n",
    "\n",
    "var array = [...str.matchAll(regexp)];\n",
    "\n",
    "for(var i=0; i < array.length; i++){\n",
    "    console.log(\"array[\"+i+\"]: \"+array[i].toString());\n",
    "}"
   ]
  },
  {
   "cell_type": "markdown",
   "id": "9cbf31a4",
   "metadata": {},
   "source": [
    "### String.prototype.replace()"
   ]
  },
  {
   "cell_type": "markdown",
   "id": "e660d352",
   "metadata": {},
   "source": [
    "The replace() method returns a new string with some or all matches of a pattern replaced by a replacement. "
   ]
  },
  {
   "cell_type": "code",
   "execution_count": 14,
   "id": "7eb2be82",
   "metadata": {},
   "outputs": [
    {
     "name": "stdout",
     "output_type": "stream",
     "text": [
      "The quick brown fox jumps over the lazy monkey. If the dog reacted, was it really lazy?\n"
     ]
    }
   ],
   "source": [
    "var p = 'The quick brown fox jumps over the lazy dog. If the dog reacted, was it really lazy?';\n",
    "\n",
    "console.log( p.replace('dog', 'monkey') );"
   ]
  },
  {
   "cell_type": "markdown",
   "id": "0ffb2859",
   "metadata": {},
   "source": [
    "### String.prototype.replaceAll()"
   ]
  },
  {
   "cell_type": "markdown",
   "id": "2f3a74f2",
   "metadata": {},
   "source": [
    "The replaceAll() method returns a new string with all matches of a pattern replaced by a replacement. "
   ]
  },
  {
   "cell_type": "code",
   "execution_count": 21,
   "id": "e437ec93",
   "metadata": {},
   "outputs": [],
   "source": [
    "var p = 'The quick brown fox jumps over the lazy dog. If the dog reacted, was it really lazy?';\n",
    "\n",
    "// TypeError: p.replaceAll is not a function\n",
    "//console.log( p.replaceAll('dog', 'monkey') ); "
   ]
  },
  {
   "cell_type": "markdown",
   "id": "1c7b747f",
   "metadata": {},
   "source": [
    "### String.prototype.search()"
   ]
  },
  {
   "cell_type": "markdown",
   "id": "2597ba67",
   "metadata": {},
   "source": [
    "The search() method executes a search for a match between a regular expression and this String object."
   ]
  },
  {
   "cell_type": "code",
   "execution_count": 24,
   "id": "375056b3",
   "metadata": {},
   "outputs": [
    {
     "name": "stdout",
     "output_type": "stream",
     "text": [
      "40\n"
     ]
    }
   ],
   "source": [
    "var paragraph = 'The quick brown fox jumps over the lazy dog. If the dog barked, was it really lazy?';\n",
    "\n",
    "var regex = /dog/;\n",
    "\n",
    "console.log(paragraph.search(regex));"
   ]
  },
  {
   "cell_type": "markdown",
   "id": "d2aad19e",
   "metadata": {},
   "source": [
    "## Modifiers"
   ]
  },
  {
   "cell_type": "markdown",
   "id": "b9e522f8",
   "metadata": {},
   "source": [
    "### d Flag"
   ]
  },
  {
   "cell_type": "markdown",
   "id": "eb963e53",
   "metadata": {},
   "source": [
    "The \"d\" flag indicates that the result of a regular expression match should contain the start and end indices of the\n",
    "substrings of each capture group."
   ]
  },
  {
   "cell_type": "markdown",
   "id": "25ec67e2",
   "metadata": {},
   "source": [
    "#### Corresponding property: RegExp.prototype.hasIndices"
   ]
  },
  {
   "cell_type": "code",
   "execution_count": 30,
   "id": "c0abb4dd",
   "metadata": {},
   "outputs": [],
   "source": [
    "var str = 'foo bar foo';\n",
    "\n",
    "//SyntaxError: Invalid flags supplied to RegExp constructor 'gd'\n",
    "//var regex = new RegExp('foo', 'gd');\n",
    "\n",
    "// console.log(regex.hasIndices); // Output: true\n",
    "\n",
    "// console.log(regex1.exec(str1).indices[0]); // Output: Array [0, 3]\n",
    "// console.log(regex1.exec(str1).indices[0]); // Output: Array [8, 11]"
   ]
  },
  {
   "cell_type": "markdown",
   "id": "c75ad909",
   "metadata": {},
   "source": [
    "### g Flag"
   ]
  },
  {
   "cell_type": "markdown",
   "id": "b4af253c",
   "metadata": {},
   "source": [
    "The \"g\" flag indicates that the regular expression should be tested against all possible matches in a string. A \n",
    "regular expression defined as both global (\"g\") and sticky (\"y\") will ignore the global flag and perform sticky \n",
    "matches."
   ]
  },
  {
   "cell_type": "markdown",
   "id": "c02bc9d0",
   "metadata": {},
   "source": [
    "##### Corresponding property: RegExp.prototype.global"
   ]
  },
  {
   "cell_type": "code",
   "execution_count": 36,
   "id": "fc8103e7",
   "metadata": {},
   "outputs": [
    {
     "name": "stdout",
     "output_type": "stream",
     "text": [
      "true\n",
      "XexampleX\n"
     ]
    }
   ],
   "source": [
    "var regex = new RegExp('foo', 'g');\n",
    "\n",
    "console.log(regex.global);  // true\n",
    "\n",
    "var str = 'fooexamplefoo';\n",
    "\n",
    "console.log( str.replace(regex, 'X') );"
   ]
  },
  {
   "cell_type": "markdown",
   "id": "2ce7c73b",
   "metadata": {},
   "source": [
    "### i Flag"
   ]
  },
  {
   "cell_type": "markdown",
   "id": "b699bb9d",
   "metadata": {},
   "source": [
    "Do a case-insensitive search"
   ]
  },
  {
   "cell_type": "markdown",
   "id": "8cf60ddf",
   "metadata": {},
   "source": [
    "##### Corresponding property: RegExp.prototype.ignoreCase"
   ]
  },
  {
   "cell_type": "code",
   "execution_count": 37,
   "id": "edc59fa7",
   "metadata": {},
   "outputs": [
    {
     "name": "stdout",
     "output_type": "stream",
     "text": [
      "true\n",
      "Visit X\n"
     ]
    }
   ],
   "source": [
    "var regex = /w3schools/i;\n",
    "\n",
    "console.log(regex.ignoreCase);  // true\n",
    "\n",
    "var str = \"Visit W3Schools\";\n",
    "\n",
    "console.log( str.replace(regex, 'X') );"
   ]
  },
  {
   "cell_type": "markdown",
   "id": "a286dc57",
   "metadata": {},
   "source": [
    "### m Flag  "
   ]
  },
  {
   "cell_type": "markdown",
   "id": "41778052",
   "metadata": {},
   "source": []
  },
  {
   "cell_type": "markdown",
   "id": "603bf8c1",
   "metadata": {},
   "source": [
    "Multi-line search."
   ]
  },
  {
   "cell_type": "markdown",
   "id": "56467f9b",
   "metadata": {},
   "source": [
    "##### Corresponding property: RegExp.prototype.multiline"
   ]
  },
  {
   "cell_type": "code",
   "execution_count": 42,
   "id": "4ae3a04e",
   "metadata": {},
   "outputs": [
    {
     "name": "stdout",
     "output_type": "stream",
     "text": [
      "true\n",
      "A X is cool\n",
      "A X is big\n"
     ]
    }
   ],
   "source": [
    "var regex = new RegExp('foo', 'gm');\n",
    "\n",
    "console.log(regex.multiline);  // true\n",
    "\n",
    "var str = \"A foo is cool\\nA foo is big\";\n",
    "\n",
    "console.log( str.replace(regex, 'X') );"
   ]
  },
  {
   "cell_type": "markdown",
   "id": "9bee9b7d",
   "metadata": {},
   "source": [
    "### s Flag  "
   ]
  },
  {
   "cell_type": "markdown",
   "id": "296ef21f",
   "metadata": {},
   "source": [
    "Allows . to match newline characters."
   ]
  },
  {
   "cell_type": "markdown",
   "id": "af90c1e3",
   "metadata": {},
   "source": [
    "##### Corresponding property: RegExp.prototype.dotAll"
   ]
  },
  {
   "cell_type": "code",
   "execution_count": 43,
   "id": "0533ae47",
   "metadata": {},
   "outputs": [
    {
     "name": "stdout",
     "output_type": "stream",
     "text": [
      "true\n",
      " foo example\n"
     ]
    }
   ],
   "source": [
    "var str = 'bar\\nexample foo example';\n",
    "\n",
    "var regex = new RegExp('bar.example','s');\n",
    "\n",
    "console.log(regex.dotAll); // Output: true\n",
    "\n",
    "console.log(str.replace(regex,'')); // Output: foo example"
   ]
  },
  {
   "cell_type": "markdown",
   "id": "051cc481",
   "metadata": {},
   "source": [
    "### u Flag "
   ]
  },
  {
   "cell_type": "markdown",
   "id": "d2d9c482",
   "metadata": {},
   "source": [
    "\"unicode\"; treat a pattern as a sequence of unicode code points."
   ]
  },
  {
   "cell_type": "markdown",
   "id": "63a9c535",
   "metadata": {},
   "source": [
    "##### Corresponding property: RegExp.prototype.unicode"
   ]
  },
  {
   "cell_type": "markdown",
   "id": "9bd08b25",
   "metadata": {},
   "source": [
    "Unicode Character 'LATIN SMALL LETTER A' (U+0061)"
   ]
  },
  {
   "cell_type": "code",
   "execution_count": 48,
   "id": "ea5be84f",
   "metadata": {},
   "outputs": [
    {
     "name": "stdout",
     "output_type": "stream",
     "text": [
      "false\n",
      "true\n",
      "a\n",
      "a\n",
      "X small fish\n",
      "X small fish\n"
     ]
    }
   ],
   "source": [
    "var str = 'a small fish';\n",
    "\n",
    "var regex1 = new RegExp('\\u{61}');\n",
    "var regex2 = new RegExp('\\u{61}', 'u');\n",
    "\n",
    "console.log(regex1.unicode);\n",
    "// expected output: false\n",
    "\n",
    "console.log(regex2.unicode);\n",
    "// expected output: true\n",
    "\n",
    "console.log(regex1.source);\n",
    "// expected output: \"a\"\n",
    "\n",
    "console.log(regex2.source);\n",
    "// expected output: \"a\"\n",
    "\n",
    "console.log( str.replace(regex1, 'X') );\n",
    "console.log( str.replace(regex2, 'X') );"
   ]
  },
  {
   "cell_type": "markdown",
   "id": "af7d1470",
   "metadata": {},
   "source": [
    "### y Flag "
   ]
  },
  {
   "cell_type": "markdown",
   "id": "146352db",
   "metadata": {},
   "source": [
    "Perform a \"sticky\" search that matches starting at the current position in the target string."
   ]
  },
  {
   "cell_type": "markdown",
   "id": "4a0ab8c5",
   "metadata": {},
   "source": [
    "##### Corresponding property: RegExp.prototype.sticky"
   ]
  },
  {
   "cell_type": "code",
   "execution_count": 50,
   "id": "c1166cab",
   "metadata": {},
   "outputs": [],
   "source": [
    "var message = \"Today, the man and the dog went to the park.\"\n",
    "\n",
    "var pattern = /the [a-zA-Z]+/y;"
   ]
  },
  {
   "cell_type": "code",
   "execution_count": 51,
   "id": "4c7aceb7",
   "metadata": {},
   "outputs": [
    {
     "name": "stdout",
     "output_type": "stream",
     "text": [
      "null\n"
     ]
    }
   ],
   "source": [
    "console.log(pattern.exec(message)); // null\n"
   ]
  },
  {
   "cell_type": "code",
   "execution_count": 52,
   "id": "71dd301c",
   "metadata": {},
   "outputs": [
    {
     "name": "stdout",
     "output_type": "stream",
     "text": [
      "0\n"
     ]
    }
   ],
   "source": [
    "console.log(pattern.lastIndex); // 0"
   ]
  },
  {
   "cell_type": "code",
   "execution_count": 53,
   "id": "77f440f4",
   "metadata": {},
   "outputs": [
    {
     "data": {
      "text/plain": [
       "19"
      ]
     },
     "execution_count": 53,
     "metadata": {},
     "output_type": "execute_result"
    }
   ],
   "source": [
    "pattern.lastIndex = 19;"
   ]
  },
  {
   "cell_type": "code",
   "execution_count": 54,
   "id": "dabd70fd",
   "metadata": {},
   "outputs": [
    {
     "name": "stdout",
     "output_type": "stream",
     "text": [
      "[\n",
      "  'the dog',\n",
      "  index: 19,\n",
      "  input: 'Today, the man and the dog went to the park.',\n",
      "  groups: undefined\n",
      "]\n"
     ]
    }
   ],
   "source": [
    "console.log(pattern.exec(message)); // \"the dog\""
   ]
  },
  {
   "cell_type": "code",
   "execution_count": 55,
   "id": "6bcd8241",
   "metadata": {},
   "outputs": [
    {
     "name": "stdout",
     "output_type": "stream",
     "text": [
      "26\n"
     ]
    }
   ],
   "source": [
    "console.log(pattern.lastIndex); // 26"
   ]
  },
  {
   "cell_type": "markdown",
   "id": "fad25fbe",
   "metadata": {},
   "source": [
    "## Groups and ranges"
   ]
  },
  {
   "cell_type": "markdown",
   "id": "ee19c6f9",
   "metadata": {},
   "source": [
    "### (x|y)"
   ]
  },
  {
   "cell_type": "markdown",
   "id": "3be7169f",
   "metadata": {},
   "source": [
    "Matches either \"x\" or \"y\". For example, /green|red/ matches \"green\" in \"green apple\" and \"red\" in \"red apple\"."
   ]
  },
  {
   "cell_type": "code",
   "execution_count": 56,
   "id": "f6985e20",
   "metadata": {},
   "outputs": [
    {
     "name": "stdout",
     "output_type": "stream",
     "text": [
      "re apple, X apple, X apple, X apple, gren apple, gr apple, blue apple, yellow apple\n"
     ]
    }
   ],
   "source": [
    "var str = \"re apple, green apple, red apple, green apple, gren apple, gr apple, blue apple, yellow apple\";\n",
    "var regex = /(red|green)/g;\n",
    "\n",
    "console.log( str.replace(regex, 'X') );"
   ]
  },
  {
   "cell_type": "markdown",
   "id": "3532babc",
   "metadata": {},
   "source": [
    "### [xyz] [a-c]"
   ]
  },
  {
   "cell_type": "code",
   "execution_count": null,
   "id": "55f93595",
   "metadata": {},
   "outputs": [],
   "source": []
  }
 ],
 "metadata": {
  "kernelspec": {
   "display_name": "Javascript (Node.js)",
   "language": "javascript",
   "name": "javascript"
  },
  "language_info": {
   "file_extension": ".js",
   "mimetype": "application/javascript",
   "name": "javascript",
   "version": "14.18.0"
  }
 },
 "nbformat": 4,
 "nbformat_minor": 5
}
