{
 "cells": [
  {
   "cell_type": "markdown",
   "id": "70979b76",
   "metadata": {},
   "source": [
    "# Regular Expressions"
   ]
  },
  {
   "cell_type": "markdown",
   "id": "66a446e6",
   "metadata": {},
   "source": [
    "# RegExp Object\n"
   ]
  },
  {
   "cell_type": "markdown",
   "id": "08ebf302",
   "metadata": {},
   "source": [
    "There are two ways to create a RegExp object: a literal notation and a constructor."
   ]
  },
  {
   "cell_type": "markdown",
   "id": "e8403884",
   "metadata": {},
   "source": [
    "* The first and last / is where the Regular Expression starts and ends."
   ]
  },
  {
   "cell_type": "markdown",
   "id": "d90c6f74",
   "metadata": {},
   "source": [
    "### Literal Notation"
   ]
  },
  {
   "cell_type": "markdown",
   "id": "74068545",
   "metadata": {},
   "source": [
    "/pattern/modifiers;\n",
    "\n",
    "| Parameter     | Description |\n",
    "| ----------- | ----------- |\n",
    "|pattern   | Required. A regular expression is an object that describes a pattern of characters.     |\n",
    "|modifier   | Optional. Modifiers are used to change perform of the Regular Expression. |"
   ]
  },
  {
   "cell_type": "code",
   "execution_count": 8,
   "id": "c8f26721",
   "metadata": {},
   "outputs": [
    {
     "name": "stdout",
     "output_type": "stream",
     "text": [
      "The fat X ran down the street by the Cat Club.\n"
     ]
    }
   ],
   "source": [
    "var str = 'The fat cat ran down the street by the Cat Club.';\n",
    "var regex = /cat/g;\n",
    "console.log(str.replace(regex, 'X'));"
   ]
  },
  {
   "cell_type": "code",
   "execution_count": 9,
   "id": "a0623cf9",
   "metadata": {},
   "outputs": [
    {
     "name": "stdout",
     "output_type": "stream",
     "text": [
      "The fat X ran down the street by the X Club.\n"
     ]
    }
   ],
   "source": [
    "var str = 'The fat cat ran down the street by the Cat Club.';\n",
    "var regex = /cat/gi;\n",
    "console.log(str.replace(regex, 'X'));"
   ]
  },
  {
   "cell_type": "markdown",
   "id": "e9b266c5",
   "metadata": {},
   "source": [
    "### Constructor"
   ]
  },
  {
   "cell_type": "markdown",
   "id": "19b034b3",
   "metadata": {},
   "source": [
    "new RegExp(pattern, modifier)\n",
    "\n",
    "\n",
    "| Parameter     | Description |\n",
    "| ----------- | ----------- |\n",
    "|pattern   | Required. A regular expression is an object that describes a pattern of characters.     |\n",
    "|modifier   | Optional. Modifiers are used to change perform of the Regular Expression. |"
   ]
  },
  {
   "cell_type": "code",
   "execution_count": 10,
   "id": "caccdaf3",
   "metadata": {},
   "outputs": [
    {
     "name": "stdout",
     "output_type": "stream",
     "text": [
      "The fat X ran down the street by the X Club.\n"
     ]
    }
   ],
   "source": [
    "var str = 'The fat cat ran down the street by the Cat Club.';\n",
    "var regex = new RegExp('cat', 'gi')\n",
    "console.log(str.replace(regex, 'X'));"
   ]
  },
  {
   "cell_type": "markdown",
   "id": "8148bc7b",
   "metadata": {},
   "source": [
    "# Methods"
   ]
  },
  {
   "cell_type": "markdown",
   "id": "1e72432b",
   "metadata": {},
   "source": [
    "With **exec and test methods** are very similar to **match method** the only difference is match method returns all matchs in array while with exec and test methods we need looping structure. "
   ]
  },
  {
   "cell_type": "markdown",
   "id": "4696e1d7",
   "metadata": {},
   "source": [
    "**lastIndex** a read/write property of RegExp objects. For regular expressions with the \"g\" attribute set, it contains an integer that specifies the character position immediately following the last match found by the **RegExp.exec()** and **RegExp.test()** methods. These methods use this property as the starting point for the next search they conduct.\n",
    "\n",
    "This property allows you to call those methods repeatedly, to loop through all matches in a string and works only if the \"g\" modifier is set.\n",
    "\n",
    "This property is read/write, so you can set it at any time to specify where in the target string, the next search should begin. exec() and test() automatically reset the lastIndex to 0 when they fail to find a match (or another match)."
   ]
  },
  {
   "cell_type": "markdown",
   "id": "41546568",
   "metadata": {},
   "source": [
    "### RegExp.prototype.exec()"
   ]
  },
  {
   "cell_type": "markdown",
   "id": "c09cd266",
   "metadata": {},
   "source": [
    "The exec() method executes a search for a match in a specified string. Returns a result array, or null."
   ]
  },
  {
   "cell_type": "code",
   "execution_count": 8,
   "id": "6df031f2",
   "metadata": {},
   "outputs": [
    {
     "name": "stdout",
     "output_type": "stream",
     "text": [
      "Found foo. Next starts at 9.\n",
      "Found foo. Next starts at 19.\n"
     ]
    }
   ],
   "source": [
    "var str = 'table football, foosball';\n",
    "var regex = RegExp('foo*', 'g');\n",
    "\n",
    "var array;\n",
    "\n",
    "while ((array = regex.exec(str)) !== null) {\n",
    "  console.log(`Found ${array}. Next starts at ${regex.lastIndex}.`);\n",
    "}"
   ]
  },
  {
   "cell_type": "markdown",
   "id": "25445d2b",
   "metadata": {},
   "source": [
    "### RegExp.prototype.test()"
   ]
  },
  {
   "cell_type": "markdown",
   "id": "e04135fa",
   "metadata": {},
   "source": [
    "The test() method executes a search for a match between a regular expression and a specified string. Return boolean."
   ]
  },
  {
   "cell_type": "code",
   "execution_count": 44,
   "id": "d313b544",
   "metadata": {},
   "outputs": [
    {
     "name": "stdout",
     "output_type": "stream",
     "text": [
      "Found true. Next starts at 9.\n",
      "Found true. Next starts at 19.\n"
     ]
    }
   ],
   "source": [
    "var str = 'table football, foosball';\n",
    "var regex = new RegExp('foo*', 'g');\n",
    "\n",
    "var array;\n",
    "\n",
    "while ((array = regex.test(str)) == true) {\n",
    "  console.log(`Found ${array}. Next starts at ${regex.lastIndex}.`);\n",
    "}"
   ]
  },
  {
   "cell_type": "markdown",
   "id": "c0462165",
   "metadata": {},
   "source": [
    "### String.prototype.match()"
   ]
  },
  {
   "cell_type": "markdown",
   "id": "340f01a0",
   "metadata": {},
   "source": [
    "The match() method retrieves the result of matching a string against a regular expression."
   ]
  },
  {
   "cell_type": "code",
   "execution_count": 45,
   "id": "113a8fb6",
   "metadata": {},
   "outputs": [
    {
     "name": "stdout",
     "output_type": "stream",
     "text": [
      "[ 'T', 'I' ]\n"
     ]
    }
   ],
   "source": [
    "var str = 'The quick brown fox jumps over the lazy dog. It barked.';\n",
    "var regex = new RegExp('[A-Z]', 'g');\n",
    "\n",
    "console.log(str.match(regex));"
   ]
  },
  {
   "cell_type": "markdown",
   "id": "a73d613e",
   "metadata": {},
   "source": [
    "### String.prototype.matchAll()"
   ]
  },
  {
   "cell_type": "markdown",
   "id": "1c64b46c",
   "metadata": {},
   "source": [
    "The matchAll() method returns an iterator of all results matching a string against a regular expression,\n",
    "including capturing groups."
   ]
  },
  {
   "cell_type": "code",
   "execution_count": 12,
   "id": "33c46f1f",
   "metadata": {},
   "outputs": [
    {
     "name": "stdout",
     "output_type": "stream",
     "text": [
      "array[0]: test1,e,st1,1\n",
      "array[1]: test2,e,st2,2\n"
     ]
    }
   ],
   "source": [
    "var str = 'test1test2';\n",
    "var regexp = /t(e)(st(\\d?))/g;\n",
    "\n",
    "var array = [...str.matchAll(regexp)];\n",
    "\n",
    "for(var i=0; i < array.length; i++){\n",
    "    console.log(\"array[\"+i+\"]: \"+array[i].toString());\n",
    "}"
   ]
  },
  {
   "cell_type": "markdown",
   "id": "9cbf31a4",
   "metadata": {},
   "source": [
    "### String.prototype.replace()"
   ]
  },
  {
   "cell_type": "markdown",
   "id": "e660d352",
   "metadata": {},
   "source": [
    "The replace() method returns a new string with some or all matches of a pattern replaced by a replacement. "
   ]
  },
  {
   "cell_type": "code",
   "execution_count": 13,
   "id": "7eb2be82",
   "metadata": {},
   "outputs": [
    {
     "name": "stdout",
     "output_type": "stream",
     "text": [
      "The quick brown fox jumps over the lazy monkey. If the dog reacted, was it really lazy?\n"
     ]
    }
   ],
   "source": [
    "var str = 'The quick brown fox jumps over the lazy dog. If the dog reacted, was it really lazy?';\n",
    "\n",
    "console.log( str.replace('dog', 'monkey') );"
   ]
  },
  {
   "cell_type": "markdown",
   "id": "0ffb2859",
   "metadata": {},
   "source": [
    "### String.prototype.replaceAll()"
   ]
  },
  {
   "cell_type": "markdown",
   "id": "2f3a74f2",
   "metadata": {},
   "source": [
    "The replaceAll() method returns a new string with all matches of a pattern replaced by a replacement. "
   ]
  },
  {
   "cell_type": "markdown",
   "id": "636d94a1",
   "metadata": {},
   "source": [
    "If you're seeing the error \"TypeError: replaceAll is not a function\", it is likely due to the method not implemented/supported by the browser version (or the Node.js version) that you're using."
   ]
  },
  {
   "cell_type": "code",
   "execution_count": 30,
   "id": "e437ec93",
   "metadata": {
    "scrolled": true
   },
   "outputs": [
    {
     "name": "stdout",
     "output_type": "stream",
     "text": [
      "call cat\n"
     ]
    }
   ],
   "source": [
    "var str = \"ball bat\";\n",
    "\n",
    "// replace all occurrence of b with c\n",
    "//console.log(str.replaceAll('b', 'c'));\n",
    "//TypeError: str.replaceAll is not a function\n",
    "\n",
    "\n",
    "var regex = /b/g;\n",
    "\n",
    "console.log(str.replace(regex, 'c'));"
   ]
  },
  {
   "cell_type": "markdown",
   "id": "1c7b747f",
   "metadata": {},
   "source": [
    "### String.prototype.search()"
   ]
  },
  {
   "cell_type": "markdown",
   "id": "2597ba67",
   "metadata": {},
   "source": [
    "The search() method executes a search for a match between a regular expression and this String object."
   ]
  },
  {
   "cell_type": "code",
   "execution_count": 15,
   "id": "375056b3",
   "metadata": {},
   "outputs": [
    {
     "name": "stdout",
     "output_type": "stream",
     "text": [
      "40\n"
     ]
    }
   ],
   "source": [
    "var str = 'The quick brown fox jumps over the lazy dog. If the dog barked, was it really lazy?';\n",
    "\n",
    "var regex = /dog/;\n",
    "\n",
    "console.log(str.search(regex));"
   ]
  },
  {
   "cell_type": "markdown",
   "id": "d2aad19e",
   "metadata": {},
   "source": [
    "# Modifiers"
   ]
  },
  {
   "cell_type": "markdown",
   "id": "b9e522f8",
   "metadata": {},
   "source": [
    "### d Flag"
   ]
  },
  {
   "cell_type": "markdown",
   "id": "eb963e53",
   "metadata": {},
   "source": [
    "The \"d\" flag indicates that the result of a regular expression match should contain the start and end indices of the\n",
    "substrings of each capture group."
   ]
  },
  {
   "cell_type": "markdown",
   "id": "25ec67e2",
   "metadata": {},
   "source": [
    "#### Corresponding property: RegExp.prototype.hasIndices"
   ]
  },
  {
   "cell_type": "code",
   "execution_count": 30,
   "id": "c0abb4dd",
   "metadata": {},
   "outputs": [],
   "source": [
    "var str = 'foo bar foo';\n",
    "\n",
    "//SyntaxError: Invalid flags supplied to RegExp constructor 'gd'\n",
    "//var regex = new RegExp('foo', 'gd');\n",
    "\n",
    "// console.log(regex.hasIndices); // Output: true\n",
    "\n",
    "// console.log(regex1.exec(str1).indices[0]); // Output: Array [0, 3]\n",
    "// console.log(regex1.exec(str1).indices[0]); // Output: Array [8, 11]"
   ]
  },
  {
   "cell_type": "markdown",
   "id": "c75ad909",
   "metadata": {},
   "source": [
    "### g Flag"
   ]
  },
  {
   "cell_type": "markdown",
   "id": "b4af253c",
   "metadata": {},
   "source": [
    "The \"g\" flag indicates that the regular expression should be tested against all possible matches in a string. A \n",
    "regular expression defined as both global (\"g\") and sticky (\"y\") will ignore the global flag and perform sticky \n",
    "matches."
   ]
  },
  {
   "cell_type": "markdown",
   "id": "c02bc9d0",
   "metadata": {},
   "source": [
    "##### Corresponding property: RegExp.prototype.global"
   ]
  },
  {
   "cell_type": "code",
   "execution_count": 40,
   "id": "fc8103e7",
   "metadata": {},
   "outputs": [
    {
     "name": "stdout",
     "output_type": "stream",
     "text": [
      "true\n",
      "XexampleX\n",
      "Is the global flag set ? true\n"
     ]
    }
   ],
   "source": [
    "var regex = new RegExp('foo', 'g');\n",
    "\n",
    "console.log(regex.global);  // true\n",
    "\n",
    "var str = 'fooexamplefoo';\n",
    "\n",
    "console.log( str.replace(regex, 'X') );\n",
    " \n",
    "console.log(\"Is the global flag set ? \" + regex.global)"
   ]
  },
  {
   "cell_type": "markdown",
   "id": "2ce7c73b",
   "metadata": {},
   "source": [
    "### i Flag"
   ]
  },
  {
   "cell_type": "markdown",
   "id": "b699bb9d",
   "metadata": {},
   "source": [
    "Do a case-insensitive search"
   ]
  },
  {
   "cell_type": "markdown",
   "id": "8cf60ddf",
   "metadata": {},
   "source": [
    "##### Corresponding property: RegExp.prototype.ignoreCase"
   ]
  },
  {
   "cell_type": "code",
   "execution_count": 37,
   "id": "edc59fa7",
   "metadata": {},
   "outputs": [
    {
     "name": "stdout",
     "output_type": "stream",
     "text": [
      "true\n",
      "Visit X\n"
     ]
    }
   ],
   "source": [
    "var regex = /w3schools/i;\n",
    "\n",
    "console.log(regex.ignoreCase);  // true\n",
    "\n",
    "var str = \"Visit W3Schools\";\n",
    "\n",
    "console.log( str.replace(regex, 'X') );"
   ]
  },
  {
   "cell_type": "markdown",
   "id": "a286dc57",
   "metadata": {},
   "source": [
    "### m Flag  "
   ]
  },
  {
   "cell_type": "markdown",
   "id": "41778052",
   "metadata": {},
   "source": []
  },
  {
   "cell_type": "markdown",
   "id": "603bf8c1",
   "metadata": {},
   "source": [
    "Multi-line search."
   ]
  },
  {
   "cell_type": "markdown",
   "id": "56467f9b",
   "metadata": {},
   "source": [
    "##### Corresponding property: RegExp.prototype.multiline"
   ]
  },
  {
   "cell_type": "code",
   "execution_count": 42,
   "id": "4ae3a04e",
   "metadata": {},
   "outputs": [
    {
     "name": "stdout",
     "output_type": "stream",
     "text": [
      "true\n",
      "A X is cool\n",
      "A X is big\n"
     ]
    }
   ],
   "source": [
    "var regex = new RegExp('foo', 'gm');\n",
    "\n",
    "console.log(regex.multiline);  // true\n",
    "\n",
    "var str = \"A foo is cool\\nA foo is big\";\n",
    "\n",
    "console.log( str.replace(regex, 'X') );"
   ]
  },
  {
   "cell_type": "markdown",
   "id": "9bee9b7d",
   "metadata": {},
   "source": [
    "### s Flag  "
   ]
  },
  {
   "cell_type": "markdown",
   "id": "296ef21f",
   "metadata": {},
   "source": [
    "Allows . to match newline characters."
   ]
  },
  {
   "cell_type": "markdown",
   "id": "af90c1e3",
   "metadata": {},
   "source": [
    "##### Corresponding property: RegExp.prototype.dotAll"
   ]
  },
  {
   "cell_type": "code",
   "execution_count": 72,
   "id": "0533ae47",
   "metadata": {},
   "outputs": [
    {
     "name": "stdout",
     "output_type": "stream",
     "text": [
      "true\n",
      "X foo example\n"
     ]
    }
   ],
   "source": [
    "var str = 'bar\\nexample foo example';\n",
    "\n",
    "var regex = new RegExp('bar.example','s');\n",
    "\n",
    "console.log(regex.dotAll); // Output: true\n",
    "\n",
    "console.log(str.replace(regex,'X')); // Output: foo example"
   ]
  },
  {
   "cell_type": "markdown",
   "id": "051cc481",
   "metadata": {},
   "source": [
    "### u Flag "
   ]
  },
  {
   "cell_type": "markdown",
   "id": "d2d9c482",
   "metadata": {},
   "source": [
    "\"unicode\"; treat a pattern as a sequence of unicode code points."
   ]
  },
  {
   "cell_type": "markdown",
   "id": "63a9c535",
   "metadata": {},
   "source": [
    "##### Corresponding property: RegExp.prototype.unicode"
   ]
  },
  {
   "cell_type": "markdown",
   "id": "9bd08b25",
   "metadata": {},
   "source": [
    "Unicode Character 'LATIN SMALL LETTER A' (U+0061)"
   ]
  },
  {
   "cell_type": "code",
   "execution_count": 48,
   "id": "ea5be84f",
   "metadata": {},
   "outputs": [
    {
     "name": "stdout",
     "output_type": "stream",
     "text": [
      "false\n",
      "true\n",
      "a\n",
      "a\n",
      "X small fish\n",
      "X small fish\n"
     ]
    }
   ],
   "source": [
    "var str = 'a small fish';\n",
    "\n",
    "var regex1 = new RegExp('\\u{61}');\n",
    "var regex2 = new RegExp('\\u{61}', 'u');\n",
    "\n",
    "console.log(regex1.unicode);\n",
    "// expected output: false\n",
    "\n",
    "console.log(regex2.unicode);\n",
    "// expected output: true\n",
    "\n",
    "console.log(regex1.source);\n",
    "// expected output: \"a\"\n",
    "\n",
    "console.log(regex2.source);\n",
    "// expected output: \"a\"\n",
    "\n",
    "console.log( str.replace(regex1, 'X') );\n",
    "console.log( str.replace(regex2, 'X') );"
   ]
  },
  {
   "cell_type": "markdown",
   "id": "af7d1470",
   "metadata": {},
   "source": [
    "### y Flag "
   ]
  },
  {
   "cell_type": "markdown",
   "id": "146352db",
   "metadata": {},
   "source": [
    "Perform a \"sticky\" search that matches starting at the current position in the target string."
   ]
  },
  {
   "cell_type": "markdown",
   "id": "4a0ab8c5",
   "metadata": {},
   "source": [
    "##### Corresponding property: RegExp.prototype.sticky"
   ]
  },
  {
   "cell_type": "code",
   "execution_count": 1,
   "id": "c1166cab",
   "metadata": {},
   "outputs": [],
   "source": [
    "var message = \"Today, the man and the dog went to the park.\"\n",
    "\n",
    "var pattern = /the [a-zA-Z]+/y;"
   ]
  },
  {
   "cell_type": "code",
   "execution_count": 2,
   "id": "4c7aceb7",
   "metadata": {},
   "outputs": [
    {
     "name": "stdout",
     "output_type": "stream",
     "text": [
      "null\n"
     ]
    }
   ],
   "source": [
    "console.log(pattern.exec(message)); // null\n"
   ]
  },
  {
   "cell_type": "code",
   "execution_count": 3,
   "id": "71dd301c",
   "metadata": {},
   "outputs": [
    {
     "name": "stdout",
     "output_type": "stream",
     "text": [
      "0\n"
     ]
    }
   ],
   "source": [
    "console.log(pattern.lastIndex); // 0"
   ]
  },
  {
   "cell_type": "code",
   "execution_count": 4,
   "id": "77f440f4",
   "metadata": {},
   "outputs": [
    {
     "data": {
      "text/plain": [
       "19"
      ]
     },
     "execution_count": 4,
     "metadata": {},
     "output_type": "execute_result"
    }
   ],
   "source": [
    "pattern.lastIndex = 19;"
   ]
  },
  {
   "cell_type": "code",
   "execution_count": 5,
   "id": "dabd70fd",
   "metadata": {},
   "outputs": [
    {
     "name": "stdout",
     "output_type": "stream",
     "text": [
      "[\n",
      "  'the dog',\n",
      "  index: 19,\n",
      "  input: 'Today, the man and the dog went to the park.',\n",
      "  groups: undefined\n",
      "]\n"
     ]
    }
   ],
   "source": [
    "console.log(pattern.exec(message)); // \"the dog\""
   ]
  },
  {
   "cell_type": "code",
   "execution_count": 6,
   "id": "6bcd8241",
   "metadata": {},
   "outputs": [
    {
     "name": "stdout",
     "output_type": "stream",
     "text": [
      "26\n"
     ]
    }
   ],
   "source": [
    "console.log(pattern.lastIndex); // 26"
   ]
  },
  {
   "cell_type": "markdown",
   "id": "fad25fbe",
   "metadata": {},
   "source": [
    "# Groups and ranges"
   ]
  },
  {
   "cell_type": "markdown",
   "id": "ee19c6f9",
   "metadata": {},
   "source": [
    "### (x|y)"
   ]
  },
  {
   "cell_type": "markdown",
   "id": "3be7169f",
   "metadata": {},
   "source": [
    "Matches either \"x\" or \"y\". For example, /green|red/ matches \"green\" in \"green apple\" and \"red\" in \"red apple\"."
   ]
  },
  {
   "cell_type": "code",
   "execution_count": 56,
   "id": "f6985e20",
   "metadata": {},
   "outputs": [
    {
     "name": "stdout",
     "output_type": "stream",
     "text": [
      "re apple, X apple, X apple, X apple, gren apple, gr apple, blue apple, yellow apple\n"
     ]
    }
   ],
   "source": [
    "var str = \"re apple, green apple, red apple, green apple, gren apple, gr apple, blue apple, yellow apple\";\n",
    "var regex = /(red|green)/g;\n",
    "\n",
    "console.log( str.replace(regex, 'X') );"
   ]
  },
  {
   "cell_type": "markdown",
   "id": "3532babc",
   "metadata": {},
   "source": [
    "### [xyz]        \n",
    "### [a-c]"
   ]
  },
  {
   "cell_type": "markdown",
   "id": "eebc5dc3",
   "metadata": {},
   "source": [
    "A character class. Matches any one of the enclosed characters. You can specify a range of characters by using a hyphen, but if the hyphen appears as the first or last character enclosed in the square brackets it is taken as a literal hyphen to be included in the character class as a normal character.\n",
    "\n",
    "For example, [abcd] is the same as [a-d]. They match the \"b\" in \"brisket\", and the \"c\" in \"chop\".\n",
    "\n",
    "For example, [abcd-] and [-abcd] match the \"b\" in \"brisket\", the \"c\" in \"chop\", and the \"-\" (hyphen) in \"non-profit\"."
   ]
  },
  {
   "cell_type": "code",
   "execution_count": 47,
   "id": "55f93595",
   "metadata": {},
   "outputs": [
    {
     "name": "stdout",
     "output_type": "stream",
     "text": [
      "WXth nX rXvXrs Xr wXlls fXr frXsh wXtXr\n"
     ]
    }
   ],
   "source": [
    "var str = \"With no rivers or wells for fresh water\";\n",
    "var regex = /[aeiouy]/g;\n",
    "\n",
    "console.log( str.replace(regex, 'X') );"
   ]
  },
  {
   "cell_type": "code",
   "execution_count": 48,
   "id": "1cd4a7bd",
   "metadata": {},
   "outputs": [
    {
     "name": "stdout",
     "output_type": "stream",
     "text": [
      "Xrisket Xhop nonXprofit\n"
     ]
    }
   ],
   "source": [
    "var str = \"brisket chop non-profit\";\n",
    "var regex = /[a-d-]/g;\n",
    "\n",
    "console.log( str.replace(regex, 'X') );"
   ]
  },
  {
   "cell_type": "markdown",
   "id": "5de20c5c",
   "metadata": {},
   "source": [
    "### [^xyz]     \n",
    "### [^a-c]     "
   ]
  },
  {
   "cell_type": "markdown",
   "id": "eeb7d2e2",
   "metadata": {},
   "source": [
    "A negated or complemented character class. That is, it matches anything that is not enclosed in the brackets. You can specify a range of characters by using a hyphen, but if the hyphen appears as the first or last character enclosed in the square brackets it is taken as a literal hyphen to be included in the character class as a normal character. For example, [^abc] is the same as [^a-c]. They initially match \"o\" in \"bacon\" and \"h\" in \"chop\"."
   ]
  },
  {
   "cell_type": "code",
   "execution_count": 50,
   "id": "13577eb3",
   "metadata": {},
   "outputs": [
    {
     "name": "stdout",
     "output_type": "stream",
     "text": [
      "brisketXchopXnonXprofit\n"
     ]
    }
   ],
   "source": [
    "var str = \"brisket chop non-profit\";\n",
    "var regex = /[^a-z]/g;\n",
    "\n",
    "console.log( str.replace(regex, 'X') );"
   ]
  },
  {
   "cell_type": "code",
   "execution_count": 51,
   "id": "41febcf3",
   "metadata": {},
   "outputs": [
    {
     "name": "stdout",
     "output_type": "stream",
     "text": [
      "XXiXXeXXXXoXXXoXXXXoXiX\n"
     ]
    }
   ],
   "source": [
    "var str = \"brisket chop non-profit\";\n",
    "var regex = /[^aeiouy]/g;\n",
    "\n",
    "console.log( str.replace(regex, 'X') );"
   ]
  },
  {
   "cell_type": "markdown",
   "id": "dba323a5",
   "metadata": {},
   "source": [
    "### (x)"
   ]
  },
  {
   "cell_type": "markdown",
   "id": "092fef2d",
   "metadata": {},
   "source": [
    "Capturing group: Matches x and remembers the match. For example, /(foo)/ matches and remembers \"foo\" in \"foo bar\". \n",
    "\n",
    "A regular expression may have multiple capturing groups. In results, matches to capturing groups typically in an array whose members are in the same order as the left parentheses in the capturing group. This is usually just the order of the capturing groups themselves. This becomes important when capturing groups are nested. Matches are accessed using the index of the result's elements ([1], ..., [n]) or from the predefined RegExp object's properties ($1, ..., $9)."
   ]
  },
  {
   "cell_type": "markdown",
   "id": "e720b7bd",
   "metadata": {},
   "source": [
    "Without parentheses, the pattern go+ means g character, followed by o repeated one or more times. For instance, goooo or gooooooooo.\n",
    "\n",
    "Parentheses group characters together, so (go)+ means go, gogo, gogogo and so on."
   ]
  },
  {
   "cell_type": "code",
   "execution_count": 59,
   "id": "459e562a",
   "metadata": {},
   "outputs": [
    {
     "name": "stdout",
     "output_type": "stream",
     "text": [
      "brisket Xp non-profit\n"
     ]
    }
   ],
   "source": [
    "var str = \"brisket cop non-profit\";\n",
    "var regex = /(co)/g;\n",
    "\n",
    "console.log( str.replace(regex, 'X') );"
   ]
  },
  {
   "cell_type": "markdown",
   "id": "f0893f9e",
   "metadata": {},
   "source": [
    "### \\n"
   ]
  },
  {
   "cell_type": "markdown",
   "id": "7c56c336",
   "metadata": {},
   "source": [
    "Where \"n\" is a positive integer. \\1 refers to the first capturing group in the regular expression. \\2 will refer to the second capturing group and \\n will refer to an nth capturing group.            \n",
    "Where \"n\" is a positive integer. A back reference to the last substring matching the n parenthetical in the regular expression (counting left parentheses). For example, /apple(,)\\sorange\\1/ matches \"apple, orange,\" in \"apple, orange, cherry, peach\"."
   ]
  },
  {
   "cell_type": "code",
   "execution_count": 61,
   "id": "2a9bc92c",
   "metadata": {},
   "outputs": [
    {
     "name": "stdout",
     "output_type": "stream",
     "text": [
      "X cherry, peach\n"
     ]
    }
   ],
   "source": [
    "var str = \"apple, orange, cherry, peach\";\n",
    "var regex = /apple(,)\\sorange\\1/;\n",
    "\n",
    "console.log( str.replace(regex, 'X') );"
   ]
  },
  {
   "cell_type": "markdown",
   "id": "e7c8d99b",
   "metadata": {},
   "source": [
    "# Meta characters"
   ]
  },
  {
   "cell_type": "markdown",
   "id": "a3360ec0",
   "metadata": {},
   "source": [
    "### ."
   ]
  },
  {
   "cell_type": "markdown",
   "id": "8076dc23",
   "metadata": {},
   "source": [
    "Find a single character, except newline or line terminator"
   ]
  },
  {
   "cell_type": "code",
   "execution_count": 66,
   "id": "e7dd2158",
   "metadata": {},
   "outputs": [
    {
     "name": "stdout",
     "output_type": "stream",
     "text": [
      "TX's X!\n"
     ]
    }
   ],
   "source": [
    "var str = \"That's hot!\";\n",
    "var regex = /h.t/g;\n",
    "\n",
    "console.log( str.replace(regex, 'X') );"
   ]
  },
  {
   "cell_type": "markdown",
   "id": "271a35f5",
   "metadata": {},
   "source": [
    "### \\w"
   ]
  },
  {
   "cell_type": "markdown",
   "id": "36e45eb2",
   "metadata": {},
   "source": [
    "Find a word character. A word character is a character a-z, A-Z, 0-9, including _ (underscore)."
   ]
  },
  {
   "cell_type": "code",
   "execution_count": 68,
   "id": "c8b9b97b",
   "metadata": {},
   "outputs": [
    {
     "name": "stdout",
     "output_type": "stream",
     "text": [
      "XXXX XXX%!\n"
     ]
    }
   ],
   "source": [
    "var str = \"Give 100%!\";\n",
    "var regex  = /\\w/g;\n",
    "\n",
    "console.log( str.replace(regex, 'X') );"
   ]
  },
  {
   "cell_type": "markdown",
   "id": "9929df56",
   "metadata": {},
   "source": [
    "### \\W"
   ]
  },
  {
   "cell_type": "markdown",
   "id": "0c1ab2ea",
   "metadata": {},
   "source": [
    "Find a non-word character"
   ]
  },
  {
   "cell_type": "code",
   "execution_count": 69,
   "id": "9f893398",
   "metadata": {},
   "outputs": [
    {
     "name": "stdout",
     "output_type": "stream",
     "text": [
      "GiveX100XX\n"
     ]
    }
   ],
   "source": [
    "var str = \"Give 100%!\";\n",
    "var regex  = /\\W/g;\n",
    "\n",
    "console.log( str.replace(regex, 'X') );"
   ]
  },
  {
   "cell_type": "markdown",
   "id": "bf9b23dd",
   "metadata": {},
   "source": [
    "### \\d"
   ]
  },
  {
   "cell_type": "markdown",
   "id": "6b883550",
   "metadata": {},
   "source": [
    "Find a digit"
   ]
  },
  {
   "cell_type": "code",
   "execution_count": 73,
   "id": "9f5fba82",
   "metadata": {},
   "outputs": [
    {
     "name": "stdout",
     "output_type": "stream",
     "text": [
      "Give XXX%!\n"
     ]
    }
   ],
   "source": [
    "var str = \"Give 100%!\";\n",
    "var regex  = /\\d/g;\n",
    "\n",
    "console.log( str.replace(regex, 'X') );"
   ]
  },
  {
   "cell_type": "markdown",
   "id": "71ea4062",
   "metadata": {},
   "source": [
    "### \\D"
   ]
  },
  {
   "cell_type": "markdown",
   "id": "ae6775d3",
   "metadata": {},
   "source": [
    "Find a non-digit character"
   ]
  },
  {
   "cell_type": "code",
   "execution_count": 74,
   "id": "f0fb0ffa",
   "metadata": {},
   "outputs": [
    {
     "name": "stdout",
     "output_type": "stream",
     "text": [
      "XXXXX100XX\n"
     ]
    }
   ],
   "source": [
    "var str = \"Give 100%!\";\n",
    "var regex  = /\\D/g;\n",
    "\n",
    "console.log( str.replace(regex, 'X') );"
   ]
  },
  {
   "cell_type": "markdown",
   "id": "8958e3df",
   "metadata": {},
   "source": [
    "### \\s"
   ]
  },
  {
   "cell_type": "markdown",
   "id": "702f48f2",
   "metadata": {},
   "source": [
    "Find a whitespace character"
   ]
  },
  {
   "cell_type": "code",
   "execution_count": 75,
   "id": "312e85f2",
   "metadata": {},
   "outputs": [
    {
     "name": "stdout",
     "output_type": "stream",
     "text": [
      "GiveX100%!\n"
     ]
    }
   ],
   "source": [
    "var str = \"Give 100%!\";\n",
    "var regex  = /\\s/g;\n",
    "\n",
    "console.log( str.replace(regex, 'X') );"
   ]
  },
  {
   "cell_type": "markdown",
   "id": "cf6995af",
   "metadata": {},
   "source": [
    "### \\S"
   ]
  },
  {
   "cell_type": "markdown",
   "id": "e2db91b6",
   "metadata": {},
   "source": [
    "Find a non-whitespace character"
   ]
  },
  {
   "cell_type": "code",
   "execution_count": 76,
   "id": "c4a4d5ac",
   "metadata": {},
   "outputs": [
    {
     "name": "stdout",
     "output_type": "stream",
     "text": [
      "XXXX XXXXX\n"
     ]
    }
   ],
   "source": [
    "var str = \"Give 100%!\";\n",
    "var regex  = /\\S/g;\n",
    "\n",
    "console.log( str.replace(regex, 'X') );"
   ]
  },
  {
   "cell_type": "markdown",
   "id": "b89071e3",
   "metadata": {},
   "source": [
    "### \\b"
   ]
  },
  {
   "cell_type": "markdown",
   "id": "2fc3043d",
   "metadata": {},
   "source": [
    "Find a match at the beginning/end of a word, beginning like this: \\bHI, end like this: HI\\b"
   ]
  },
  {
   "cell_type": "markdown",
   "id": "ed123da2",
   "metadata": {},
   "source": [
    "Search for the pattern LO at the beginning of a word like this:"
   ]
  },
  {
   "cell_type": "code",
   "execution_count": 77,
   "id": "ba3d1eee",
   "metadata": {},
   "outputs": [
    {
     "name": "stdout",
     "output_type": "stream",
     "text": [
      "HELLO, XOK AT YOU\n"
     ]
    }
   ],
   "source": [
    "var str  = \"HELLO, LOOK AT YOU\";\n",
    "var regex = /\\bLO/;\n",
    "\n",
    "console.log( str.replace(regex, 'X') );"
   ]
  },
  {
   "cell_type": "markdown",
   "id": "08585d25",
   "metadata": {},
   "source": [
    "Search for the pattern LO at the end of a word like this:"
   ]
  },
  {
   "cell_type": "code",
   "execution_count": 78,
   "id": "fee669a9",
   "metadata": {},
   "outputs": [
    {
     "name": "stdout",
     "output_type": "stream",
     "text": [
      "HELX, LOOK AT YOU\n"
     ]
    }
   ],
   "source": [
    "var str  = \"HELLO, LOOK AT YOU\";\n",
    "var regex = /LO\\b/;\n",
    "\n",
    "console.log( str.replace(regex, 'X') );"
   ]
  },
  {
   "cell_type": "code",
   "execution_count": null,
   "id": "d076f970",
   "metadata": {},
   "outputs": [],
   "source": []
  },
  {
   "cell_type": "code",
   "execution_count": null,
   "id": "add243ca",
   "metadata": {},
   "outputs": [],
   "source": []
  },
  {
   "cell_type": "markdown",
   "id": "1785b1f5",
   "metadata": {},
   "source": [
    "### \\B"
   ]
  },
  {
   "cell_type": "markdown",
   "id": "49f04389",
   "metadata": {},
   "source": [
    "Find a match, but not at the beginning/end of a word"
   ]
  },
  {
   "cell_type": "code",
   "execution_count": null,
   "id": "ace3bac0",
   "metadata": {},
   "outputs": [],
   "source": []
  },
  {
   "cell_type": "markdown",
   "id": "b143fff5",
   "metadata": {},
   "source": [
    "### \\0"
   ]
  },
  {
   "cell_type": "markdown",
   "id": "592cf623",
   "metadata": {},
   "source": [
    "Find a NULL character"
   ]
  },
  {
   "cell_type": "code",
   "execution_count": null,
   "id": "829824b9",
   "metadata": {},
   "outputs": [],
   "source": []
  },
  {
   "cell_type": "markdown",
   "id": "4ca2fc64",
   "metadata": {},
   "source": [
    "### \\n"
   ]
  },
  {
   "cell_type": "markdown",
   "id": "f5ae3010",
   "metadata": {},
   "source": [
    "Find a new line character"
   ]
  },
  {
   "cell_type": "code",
   "execution_count": null,
   "id": "d9906a6b",
   "metadata": {},
   "outputs": [],
   "source": []
  },
  {
   "cell_type": "markdown",
   "id": "763ac198",
   "metadata": {},
   "source": [
    "### \\f"
   ]
  },
  {
   "cell_type": "markdown",
   "id": "5b7b768d",
   "metadata": {},
   "source": [
    "Find a form feed character"
   ]
  },
  {
   "cell_type": "markdown",
   "id": "336b6b34",
   "metadata": {},
   "source": []
  },
  {
   "cell_type": "markdown",
   "id": "28f7210f",
   "metadata": {},
   "source": [
    "### \\r"
   ]
  },
  {
   "cell_type": "markdown",
   "id": "985a4a47",
   "metadata": {},
   "source": [
    "Find a carriage return character"
   ]
  },
  {
   "cell_type": "code",
   "execution_count": null,
   "id": "cd9eba50",
   "metadata": {},
   "outputs": [],
   "source": []
  },
  {
   "cell_type": "markdown",
   "id": "4e815c4d",
   "metadata": {},
   "source": [
    "### \\t"
   ]
  },
  {
   "cell_type": "markdown",
   "id": "5171911a",
   "metadata": {},
   "source": [
    "Find a tab character"
   ]
  },
  {
   "cell_type": "code",
   "execution_count": null,
   "id": "40cab1aa",
   "metadata": {},
   "outputs": [],
   "source": []
  },
  {
   "cell_type": "markdown",
   "id": "2b589488",
   "metadata": {},
   "source": [
    "### \\v"
   ]
  },
  {
   "cell_type": "markdown",
   "id": "88fb042f",
   "metadata": {},
   "source": [
    "Find a vertical tab character"
   ]
  },
  {
   "cell_type": "code",
   "execution_count": null,
   "id": "49a59da2",
   "metadata": {},
   "outputs": [],
   "source": []
  },
  {
   "cell_type": "markdown",
   "id": "2667a750",
   "metadata": {},
   "source": [
    "### \\xxx"
   ]
  },
  {
   "cell_type": "markdown",
   "id": "db9376f2",
   "metadata": {},
   "source": [
    "Find the character specified by an octal number xxx"
   ]
  },
  {
   "cell_type": "code",
   "execution_count": null,
   "id": "f5284dc7",
   "metadata": {},
   "outputs": [],
   "source": []
  },
  {
   "cell_type": "markdown",
   "id": "8b2441ca",
   "metadata": {},
   "source": [
    "### \\xdd"
   ]
  },
  {
   "cell_type": "markdown",
   "id": "6593e6d2",
   "metadata": {},
   "source": [
    "Find the character specified by a hexadecimal number dd"
   ]
  },
  {
   "cell_type": "code",
   "execution_count": null,
   "id": "03c3383d",
   "metadata": {},
   "outputs": [],
   "source": []
  },
  {
   "cell_type": "markdown",
   "id": "cf885ff1",
   "metadata": {},
   "source": [
    "### \\udddd"
   ]
  },
  {
   "cell_type": "markdown",
   "id": "b661ae1e",
   "metadata": {},
   "source": [
    "Find the Unicode character specified by a hexadecimal number dddd"
   ]
  },
  {
   "cell_type": "code",
   "execution_count": null,
   "id": "64df1091",
   "metadata": {},
   "outputs": [],
   "source": []
  },
  {
   "cell_type": "markdown",
   "id": "ad93ea6c",
   "metadata": {},
   "source": [
    "# Quantifiers"
   ]
  },
  {
   "cell_type": "markdown",
   "id": "66f472ff",
   "metadata": {},
   "source": [
    "### n+"
   ]
  },
  {
   "cell_type": "markdown",
   "id": "b826fcde",
   "metadata": {},
   "source": [
    "Matches any string that contains at least one n"
   ]
  },
  {
   "cell_type": "code",
   "execution_count": null,
   "id": "1729f7ab",
   "metadata": {},
   "outputs": [],
   "source": []
  },
  {
   "cell_type": "markdown",
   "id": "96b6c511",
   "metadata": {},
   "source": [
    "### n*"
   ]
  },
  {
   "cell_type": "markdown",
   "id": "6ee07d36",
   "metadata": {},
   "source": [
    "Matches any string that contains zero or more occurrences of n"
   ]
  },
  {
   "cell_type": "code",
   "execution_count": null,
   "id": "c4dd5062",
   "metadata": {},
   "outputs": [],
   "source": []
  },
  {
   "cell_type": "markdown",
   "id": "51d2bde8",
   "metadata": {},
   "source": [
    "### n?"
   ]
  },
  {
   "cell_type": "markdown",
   "id": "52c22379",
   "metadata": {},
   "source": [
    "Matches any string that contains zero or one occurrences of n"
   ]
  },
  {
   "cell_type": "code",
   "execution_count": null,
   "id": "2b6c6f91",
   "metadata": {},
   "outputs": [],
   "source": []
  },
  {
   "cell_type": "markdown",
   "id": "e940782a",
   "metadata": {},
   "source": [
    "### n{X}"
   ]
  },
  {
   "cell_type": "markdown",
   "id": "fec7d685",
   "metadata": {},
   "source": [
    "Matches any string that contains a sequence of X n's"
   ]
  },
  {
   "cell_type": "code",
   "execution_count": null,
   "id": "aac4b5b6",
   "metadata": {},
   "outputs": [],
   "source": []
  },
  {
   "cell_type": "markdown",
   "id": "3a10862a",
   "metadata": {},
   "source": [
    "### n{X,Y} "
   ]
  },
  {
   "cell_type": "markdown",
   "id": "6a8a97a0",
   "metadata": {},
   "source": [
    "Matches any string that contains a sequence of X to Y n's"
   ]
  },
  {
   "cell_type": "code",
   "execution_count": null,
   "id": "144f0343",
   "metadata": {},
   "outputs": [],
   "source": []
  },
  {
   "cell_type": "markdown",
   "id": "b8ea214e",
   "metadata": {},
   "source": [
    "### n{X,}"
   ]
  },
  {
   "cell_type": "markdown",
   "id": "384ecebc",
   "metadata": {},
   "source": [
    "Matches any string that contains a sequence of at least X n's"
   ]
  },
  {
   "cell_type": "code",
   "execution_count": null,
   "id": "fdea56e6",
   "metadata": {},
   "outputs": [],
   "source": []
  },
  {
   "cell_type": "markdown",
   "id": "32ac6007",
   "metadata": {},
   "source": [
    "### n$"
   ]
  },
  {
   "cell_type": "markdown",
   "id": "d75aab66",
   "metadata": {},
   "source": [
    "Matches any string with n at the end of it"
   ]
  },
  {
   "cell_type": "code",
   "execution_count": null,
   "id": "65a2556e",
   "metadata": {},
   "outputs": [],
   "source": []
  },
  {
   "cell_type": "markdown",
   "id": "8180d401",
   "metadata": {},
   "source": [
    "### ^n"
   ]
  },
  {
   "cell_type": "markdown",
   "id": "38007bce",
   "metadata": {},
   "source": [
    "Matches any string with n at the beginning of it"
   ]
  },
  {
   "cell_type": "code",
   "execution_count": null,
   "id": "1eb1a648",
   "metadata": {},
   "outputs": [],
   "source": []
  },
  {
   "cell_type": "markdown",
   "id": "00693044",
   "metadata": {},
   "source": [
    "### ?=n"
   ]
  },
  {
   "cell_type": "markdown",
   "id": "718e3cab",
   "metadata": {},
   "source": [
    "Matches any string that is followed by a specific string n"
   ]
  },
  {
   "cell_type": "code",
   "execution_count": null,
   "id": "1826812b",
   "metadata": {},
   "outputs": [],
   "source": []
  },
  {
   "cell_type": "markdown",
   "id": "88a54d98",
   "metadata": {},
   "source": [
    "### ?!n"
   ]
  },
  {
   "cell_type": "markdown",
   "id": "769b10a8",
   "metadata": {},
   "source": [
    "Matches any string that is not followed by a specific string n"
   ]
  },
  {
   "cell_type": "code",
   "execution_count": null,
   "id": "4961583e",
   "metadata": {},
   "outputs": [],
   "source": []
  }
 ],
 "metadata": {
  "kernelspec": {
   "display_name": "Javascript (Node.js)",
   "language": "javascript",
   "name": "javascript"
  },
  "language_info": {
   "file_extension": ".js",
   "mimetype": "application/javascript",
   "name": "javascript",
   "version": "14.18.0"
  }
 },
 "nbformat": 4,
 "nbformat_minor": 5
}
