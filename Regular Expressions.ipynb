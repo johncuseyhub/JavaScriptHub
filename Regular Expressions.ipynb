{
 "cells": [
  {
   "cell_type": "markdown",
   "metadata": {},
   "source": [
    "# Regular Expressions"
   ]
  },
  {
   "cell_type": "code",
   "execution_count": 1,
   "metadata": {},
   "outputs": [
    {
     "name": "stdout",
     "output_type": "stream",
     "text": [
      "hello\n"
     ]
    }
   ],
   "source": [
    "console.log(\"hello\")"
   ]
  },
  {
   "cell_type": "markdown",
   "metadata": {},
   "source": [
    "# RegExp Object\n"
   ]
  },
  {
   "cell_type": "markdown",
   "metadata": {},
   "source": [
    "There are two ways to create a RegExp object: a literal notation and a constructor."
   ]
  },
  {
   "cell_type": "markdown",
   "metadata": {},
   "source": [
    "* The first and last / is where the Regular Expression starts and ends."
   ]
  },
  {
   "cell_type": "markdown",
   "metadata": {},
   "source": [
    "### Literal Notation"
   ]
  },
  {
   "cell_type": "markdown",
   "metadata": {},
   "source": [
    "/pattern/modifiers;\n",
    "\n",
    "| Parameter     | Description |\n",
    "| ----------- | ----------- |\n",
    "|pattern   | Required. A regular expression is an object that describes a pattern of characters.     |\n",
    "|modifier   | Optional. Modifiers are used to change perform of the Regular Expression. |"
   ]
  },
  {
   "cell_type": "code",
   "execution_count": 8,
   "metadata": {},
   "outputs": [
    {
     "name": "stdout",
     "output_type": "stream",
     "text": [
      "The fat X ran down the street by the Cat Club.\n"
     ]
    }
   ],
   "source": [
    "var str = 'The fat cat ran down the street by the Cat Club.';\n",
    "var regex = /cat/g;\n",
    "console.log(str.replace(regex, 'X'));"
   ]
  },
  {
   "cell_type": "code",
   "execution_count": 9,
   "metadata": {},
   "outputs": [
    {
     "name": "stdout",
     "output_type": "stream",
     "text": [
      "The fat X ran down the street by the X Club.\n"
     ]
    }
   ],
   "source": [
    "var str = 'The fat cat ran down the street by the Cat Club.';\n",
    "var regex = /cat/gi;\n",
    "console.log(str.replace(regex, 'X'));"
   ]
  },
  {
   "cell_type": "markdown",
   "metadata": {},
   "source": [
    "### Constructor"
   ]
  },
  {
   "cell_type": "markdown",
   "metadata": {},
   "source": [
    "new RegExp(pattern, modifier)\n",
    "\n",
    "\n",
    "| Parameter     | Description |\n",
    "| ----------- | ----------- |\n",
    "|pattern   | Required. A regular expression is an object that describes a pattern of characters.     |\n",
    "|modifier   | Optional. Modifiers are used to change perform of the Regular Expression. |"
   ]
  },
  {
   "cell_type": "code",
   "execution_count": 10,
   "metadata": {},
   "outputs": [
    {
     "name": "stdout",
     "output_type": "stream",
     "text": [
      "The fat X ran down the street by the X Club.\n"
     ]
    }
   ],
   "source": [
    "var str = 'The fat cat ran down the street by the Cat Club.';\n",
    "var regex = new RegExp('cat', 'gi')\n",
    "console.log(str.replace(regex, 'X'));"
   ]
  },
  {
   "cell_type": "markdown",
   "metadata": {},
   "source": [
    "# Methods"
   ]
  },
  {
   "cell_type": "markdown",
   "metadata": {},
   "source": [
    "With **exec and test methods** are very similar to **match method** the only difference is match method returns all matchs in array while with exec and test methods we need looping structure. "
   ]
  },
  {
   "cell_type": "markdown",
   "metadata": {},
   "source": [
    "**lastIndex** a read/write property of RegExp objects. For regular expressions with the \"g\" attribute set, it contains an integer that specifies the character position immediately following the last match found by the **RegExp.exec()** and **RegExp.test()** methods. These methods use this property as the starting point for the next search they conduct.\n",
    "\n",
    "This property allows you to call those methods repeatedly, to loop through all matches in a string and works only if the \"g\" modifier is set.\n",
    "\n",
    "This property is read/write, so you can set it at any time to specify where in the target string, the next search should begin. exec() and test() automatically reset the lastIndex to 0 when they fail to find a match (or another match)."
   ]
  },
  {
   "cell_type": "markdown",
   "metadata": {},
   "source": [
    "### RegExp.prototype.exec()"
   ]
  },
  {
   "cell_type": "markdown",
   "metadata": {},
   "source": [
    "The exec() method executes a search for a match in a specified string. Returns a result array, or null.\n",
    "\n",
    "JavaScript RegExp objects are stateful when they have the global or sticky flags set (e.g. /foo/g or /foo/y). They store a lastIndex from the previous match. Using this internally, exec() can be used to iterate over multiple matches in a string of text (with capture groups), as opposed to getting just the matching strings with String.prototype.match().\n",
    "\n",
    "A newer function has been proposed to simplify matching multiple parts of a string (with capture groups): String.prototype.matchAll().\n",
    "\n",
    "If you are executing a match simply to find true or false, use RegExp.prototype.test() method or String.prototype.search() instead."
   ]
  },
  {
   "cell_type": "code",
   "execution_count": 8,
   "metadata": {},
   "outputs": [
    {
     "name": "stdout",
     "output_type": "stream",
     "text": [
      "Found foo. Next starts at 9.\n",
      "Found foo. Next starts at 19.\n"
     ]
    }
   ],
   "source": [
    "var str = 'table football, foosball';\n",
    "var regex = RegExp('foo*', 'g');\n",
    "\n",
    "var array;\n",
    "\n",
    "while ((array = regex.exec(str)) !== null) {\n",
    "  console.log(`Found ${array}. Next starts at ${regex.lastIndex}.`);\n",
    "}"
   ]
  },
  {
   "cell_type": "markdown",
   "metadata": {},
   "source": [
    "### RegExp.prototype.test()"
   ]
  },
  {
   "cell_type": "markdown",
   "metadata": {},
   "source": [
    "The test() method executes a search for a match between a regular expression and a specified string. Return boolean."
   ]
  },
  {
   "cell_type": "code",
   "execution_count": 44,
   "metadata": {},
   "outputs": [
    {
     "name": "stdout",
     "output_type": "stream",
     "text": [
      "Found true. Next starts at 9.\n",
      "Found true. Next starts at 19.\n"
     ]
    }
   ],
   "source": [
    "var str = 'table football, foosball';\n",
    "var regex = new RegExp('foo*', 'g');\n",
    "\n",
    "var array;\n",
    "\n",
    "while ((array = regex.test(str)) == true) {\n",
    "  console.log(`Found ${array}. Next starts at ${regex.lastIndex}.`);\n",
    "}"
   ]
  },
  {
   "cell_type": "markdown",
   "metadata": {},
   "source": [
    "### String.prototype.match()"
   ]
  },
  {
   "cell_type": "markdown",
   "metadata": {},
   "source": [
    "The match() method retrieves the result of matching a string against a regular expression."
   ]
  },
  {
   "cell_type": "code",
   "execution_count": 45,
   "metadata": {},
   "outputs": [
    {
     "name": "stdout",
     "output_type": "stream",
     "text": [
      "[ 'T', 'I' ]\n"
     ]
    }
   ],
   "source": [
    "var str = 'The quick brown fox jumps over the lazy dog. It barked.';\n",
    "var regex = new RegExp('[A-Z]', 'g');\n",
    "\n",
    "console.log(str.match(regex));"
   ]
  },
  {
   "cell_type": "markdown",
   "metadata": {},
   "source": [
    "### String.prototype.matchAll()"
   ]
  },
  {
   "cell_type": "markdown",
   "metadata": {},
   "source": [
    "The matchAll() method returns an iterator of all results matching a string against a regular expression,\n",
    "including capturing groups."
   ]
  },
  {
   "cell_type": "code",
   "execution_count": 12,
   "metadata": {},
   "outputs": [
    {
     "name": "stdout",
     "output_type": "stream",
     "text": [
      "array[0]: test1,e,st1,1\n",
      "array[1]: test2,e,st2,2\n"
     ]
    }
   ],
   "source": [
    "var str = 'test1test2';\n",
    "var regexp = /t(e)(st(\\d?))/g;\n",
    "\n",
    "var array = [...str.matchAll(regexp)];\n",
    "\n",
    "for(var i=0; i < array.length; i++){\n",
    "    console.log(\"array[\"+i+\"]: \"+array[i].toString());\n",
    "}"
   ]
  },
  {
   "cell_type": "markdown",
   "metadata": {},
   "source": [
    "### String.prototype.replace()"
   ]
  },
  {
   "cell_type": "markdown",
   "metadata": {},
   "source": [
    "The replace() method returns a new string with some or all matches of a pattern replaced by a replacement. "
   ]
  },
  {
   "cell_type": "code",
   "execution_count": 13,
   "metadata": {},
   "outputs": [
    {
     "name": "stdout",
     "output_type": "stream",
     "text": [
      "The quick brown fox jumps over the lazy monkey. If the dog reacted, was it really lazy?\n"
     ]
    }
   ],
   "source": [
    "var str = 'The quick brown fox jumps over the lazy dog. If the dog reacted, was it really lazy?';\n",
    "\n",
    "console.log( str.replace('dog', 'monkey') );"
   ]
  },
  {
   "cell_type": "markdown",
   "metadata": {},
   "source": [
    "### String.prototype.replaceAll()"
   ]
  },
  {
   "cell_type": "markdown",
   "metadata": {},
   "source": [
    "The replaceAll() method returns a new string with all matches of a pattern replaced by a replacement. "
   ]
  },
  {
   "cell_type": "markdown",
   "metadata": {},
   "source": [
    "If you're seeing the error \"TypeError: replaceAll is not a function\", it is likely due to the method not implemented/supported by the browser version (or the Node.js version) that you're using."
   ]
  },
  {
   "cell_type": "code",
   "execution_count": 30,
   "metadata": {
    "scrolled": true
   },
   "outputs": [
    {
     "name": "stdout",
     "output_type": "stream",
     "text": [
      "call cat\n"
     ]
    }
   ],
   "source": [
    "var str = \"ball bat\";\n",
    "\n",
    "// replace all occurrence of b with c\n",
    "//console.log(str.replaceAll('b', 'c'));\n",
    "//TypeError: str.replaceAll is not a function\n",
    "\n",
    "\n",
    "var regex = /b/g;\n",
    "\n",
    "console.log(str.replace(regex, 'c'));"
   ]
  },
  {
   "cell_type": "markdown",
   "metadata": {},
   "source": [
    "### String.prototype.search()"
   ]
  },
  {
   "cell_type": "markdown",
   "metadata": {},
   "source": [
    "The search() method executes a search for a match between a regular expression and this String object."
   ]
  },
  {
   "cell_type": "code",
   "execution_count": 15,
   "metadata": {},
   "outputs": [
    {
     "name": "stdout",
     "output_type": "stream",
     "text": [
      "40\n"
     ]
    }
   ],
   "source": [
    "var str = 'The quick brown fox jumps over the lazy dog. If the dog barked, was it really lazy?';\n",
    "\n",
    "var regex = /dog/;\n",
    "\n",
    "console.log(str.search(regex));"
   ]
  },
  {
   "cell_type": "markdown",
   "metadata": {},
   "source": [
    "# Modifiers"
   ]
  },
  {
   "cell_type": "markdown",
   "metadata": {},
   "source": [
    "### d Flag"
   ]
  },
  {
   "cell_type": "markdown",
   "metadata": {},
   "source": [
    "The \"d\" flag indicates that the result of a regular expression match should contain the **start and end indices** of the\n",
    "substrings of each capture group."
   ]
  },
  {
   "cell_type": "markdown",
   "metadata": {},
   "source": [
    "#### Corresponding property: RegExp.prototype.hasIndices"
   ]
  },
  {
   "cell_type": "code",
   "execution_count": 30,
   "metadata": {},
   "outputs": [],
   "source": [
    "var str = 'foo bar foo';\n",
    "\n",
    "//SyntaxError: Invalid flags supplied to RegExp constructor 'gd'\n",
    "//var regex = new RegExp('foo', 'gd');\n",
    "\n",
    "// console.log(regex.hasIndices); // Output: true\n",
    "\n",
    "// console.log(regex.exec(str).indices[0]); // Output: Array [0, 3]\n",
    "// console.log(regex.exec(str).indices[0]); // Output: Array [8, 11]"
   ]
  },
  {
   "cell_type": "markdown",
   "metadata": {},
   "source": [
    "### g Flag"
   ]
  },
  {
   "cell_type": "markdown",
   "metadata": {},
   "source": [
    "The \"g\" flag indicates that the regular expression should be tested **against all possible matches** in a string. A \n",
    "regular expression defined as both global (\"g\") and sticky (\"y\") will ignore the global flag and perform sticky \n",
    "matches."
   ]
  },
  {
   "cell_type": "markdown",
   "metadata": {},
   "source": [
    "##### Corresponding property: RegExp.prototype.global"
   ]
  },
  {
   "cell_type": "code",
   "execution_count": 40,
   "metadata": {},
   "outputs": [
    {
     "name": "stdout",
     "output_type": "stream",
     "text": [
      "true\n",
      "XexampleX\n",
      "Is the global flag set ? true\n"
     ]
    }
   ],
   "source": [
    "var regex = new RegExp('foo', 'g');\n",
    "\n",
    "console.log(regex.global);  // true\n",
    "\n",
    "var str = 'fooexamplefoo';\n",
    "\n",
    "console.log( str.replace(regex, 'X') );\n",
    " \n",
    "console.log(\"Is the global flag set ? \" + regex.global)"
   ]
  },
  {
   "cell_type": "markdown",
   "metadata": {},
   "source": [
    "### i Flag"
   ]
  },
  {
   "cell_type": "markdown",
   "metadata": {},
   "source": [
    "Do a **case-insensitive** search"
   ]
  },
  {
   "cell_type": "markdown",
   "metadata": {},
   "source": [
    "##### Corresponding property: RegExp.prototype.ignoreCase"
   ]
  },
  {
   "cell_type": "code",
   "execution_count": 37,
   "metadata": {},
   "outputs": [
    {
     "name": "stdout",
     "output_type": "stream",
     "text": [
      "true\n",
      "Visit X\n"
     ]
    }
   ],
   "source": [
    "var regex = /w3schools/i;\n",
    "\n",
    "console.log(regex.ignoreCase);  // true\n",
    "\n",
    "var str = \"Visit W3Schools\";\n",
    "\n",
    "console.log( str.replace(regex, 'X') );"
   ]
  },
  {
   "cell_type": "markdown",
   "metadata": {},
   "source": [
    "### m Flag  "
   ]
  },
  {
   "cell_type": "markdown",
   "metadata": {},
   "source": [
    "**Multi-line** search."
   ]
  },
  {
   "cell_type": "markdown",
   "metadata": {},
   "source": [
    "##### Corresponding property: RegExp.prototype.multiline"
   ]
  },
  {
   "cell_type": "code",
   "execution_count": 42,
   "metadata": {},
   "outputs": [
    {
     "name": "stdout",
     "output_type": "stream",
     "text": [
      "true\n",
      "A X is cool\n",
      "A X is big\n"
     ]
    }
   ],
   "source": [
    "var regex = new RegExp('foo', 'gm');\n",
    "\n",
    "console.log(regex.multiline);  // true\n",
    "\n",
    "var str = \"A foo is cool\\nA foo is big\";\n",
    "\n",
    "console.log( str.replace(regex, 'X') );"
   ]
  },
  {
   "cell_type": "markdown",
   "metadata": {},
   "source": [
    "### s Flag  "
   ]
  },
  {
   "cell_type": "markdown",
   "metadata": {},
   "source": [
    "Allows . to match newline characters."
   ]
  },
  {
   "cell_type": "markdown",
   "metadata": {},
   "source": [
    "##### Corresponding property: RegExp.prototype.dotAll"
   ]
  },
  {
   "cell_type": "code",
   "execution_count": 72,
   "metadata": {},
   "outputs": [
    {
     "name": "stdout",
     "output_type": "stream",
     "text": [
      "true\n",
      "X foo example\n"
     ]
    }
   ],
   "source": [
    "var str = 'bar\\nexample foo example';\n",
    "\n",
    "var regex = new RegExp('bar.example','s');\n",
    "\n",
    "console.log(regex.dotAll); // Output: true\n",
    "\n",
    "console.log(str.replace(regex,'X')); // Output: foo example"
   ]
  },
  {
   "cell_type": "markdown",
   "metadata": {},
   "source": [
    "### u Flag "
   ]
  },
  {
   "cell_type": "markdown",
   "metadata": {},
   "source": [
    "\"unicode\"; treat a pattern as a sequence of unicode code points."
   ]
  },
  {
   "cell_type": "markdown",
   "metadata": {},
   "source": [
    "##### Corresponding property: RegExp.prototype.unicode"
   ]
  },
  {
   "cell_type": "markdown",
   "metadata": {},
   "source": [
    "Unicode Character 'LATIN SMALL LETTER A' (U+0061)"
   ]
  },
  {
   "cell_type": "code",
   "execution_count": 48,
   "metadata": {},
   "outputs": [
    {
     "name": "stdout",
     "output_type": "stream",
     "text": [
      "false\n",
      "true\n",
      "a\n",
      "a\n",
      "X small fish\n",
      "X small fish\n"
     ]
    }
   ],
   "source": [
    "var str = 'a small fish';\n",
    "\n",
    "var regex1 = new RegExp('\\u{61}');\n",
    "var regex2 = new RegExp('\\u{61}', 'u');\n",
    "\n",
    "console.log(regex1.unicode);\n",
    "// expected output: false\n",
    "\n",
    "console.log(regex2.unicode);\n",
    "// expected output: true\n",
    "\n",
    "console.log(regex1.source);\n",
    "// expected output: \"a\"\n",
    "\n",
    "console.log(regex2.source);\n",
    "// expected output: \"a\"\n",
    "\n",
    "console.log( str.replace(regex1, 'X') );\n",
    "console.log( str.replace(regex2, 'X') );"
   ]
  },
  {
   "cell_type": "markdown",
   "metadata": {},
   "source": [
    "### y Flag "
   ]
  },
  {
   "cell_type": "markdown",
   "metadata": {},
   "source": [
    "Perform a \"sticky\" search that matches starting at the current position in the target string."
   ]
  },
  {
   "cell_type": "markdown",
   "metadata": {},
   "source": [
    "##### Corresponding property: RegExp.prototype.sticky"
   ]
  },
  {
   "cell_type": "code",
   "execution_count": 1,
   "metadata": {},
   "outputs": [],
   "source": [
    "var message = \"Today, the man and the dog went to the park.\"\n",
    "\n",
    "var pattern = /the [a-zA-Z]+/y;"
   ]
  },
  {
   "cell_type": "code",
   "execution_count": 2,
   "metadata": {},
   "outputs": [
    {
     "name": "stdout",
     "output_type": "stream",
     "text": [
      "null\n"
     ]
    }
   ],
   "source": [
    "console.log(pattern.exec(message)); // null\n"
   ]
  },
  {
   "cell_type": "code",
   "execution_count": 3,
   "metadata": {},
   "outputs": [
    {
     "name": "stdout",
     "output_type": "stream",
     "text": [
      "0\n"
     ]
    }
   ],
   "source": [
    "console.log(pattern.lastIndex); // 0"
   ]
  },
  {
   "cell_type": "code",
   "execution_count": 4,
   "metadata": {},
   "outputs": [
    {
     "data": {
      "text/plain": [
       "19"
      ]
     },
     "execution_count": 4,
     "metadata": {},
     "output_type": "execute_result"
    }
   ],
   "source": [
    "pattern.lastIndex = 19;"
   ]
  },
  {
   "cell_type": "code",
   "execution_count": 5,
   "metadata": {},
   "outputs": [
    {
     "name": "stdout",
     "output_type": "stream",
     "text": [
      "[\n",
      "  'the dog',\n",
      "  index: 19,\n",
      "  input: 'Today, the man and the dog went to the park.',\n",
      "  groups: undefined\n",
      "]\n"
     ]
    }
   ],
   "source": [
    "console.log(pattern.exec(message)); // \"the dog\""
   ]
  },
  {
   "cell_type": "code",
   "execution_count": 6,
   "metadata": {},
   "outputs": [
    {
     "name": "stdout",
     "output_type": "stream",
     "text": [
      "26\n"
     ]
    }
   ],
   "source": [
    "console.log(pattern.lastIndex); // 26"
   ]
  },
  {
   "cell_type": "markdown",
   "metadata": {},
   "source": [
    "# Groups and ranges"
   ]
  },
  {
   "cell_type": "markdown",
   "metadata": {},
   "source": [
    "### (x|y)"
   ]
  },
  {
   "cell_type": "markdown",
   "metadata": {},
   "source": [
    "Matches either \"x\" or \"y\". For example, /green|red/ matches \"green\" in \"green apple\" and \"red\" in \"red apple\"."
   ]
  },
  {
   "cell_type": "code",
   "execution_count": 56,
   "metadata": {},
   "outputs": [
    {
     "name": "stdout",
     "output_type": "stream",
     "text": [
      "re apple, X apple, X apple, X apple, gren apple, gr apple, blue apple, yellow apple\n"
     ]
    }
   ],
   "source": [
    "var str = \"re apple, green apple, red apple, green apple, gren apple, gr apple, blue apple, yellow apple\";\n",
    "var regex = /(red|green)/g;\n",
    "\n",
    "console.log( str.replace(regex, 'X') );"
   ]
  },
  {
   "cell_type": "markdown",
   "metadata": {},
   "source": [
    "### [xyz]        \n",
    "### [a-c]"
   ]
  },
  {
   "cell_type": "markdown",
   "metadata": {},
   "source": [
    "A character class. Matches any one of the enclosed characters. You can specify a range of characters by using a hyphen, but if the hyphen appears as the first or last character enclosed in the square brackets it is taken as a literal hyphen to be included in the character class as a normal character.\n",
    "\n",
    "For example, [abcd] is the same as [a-d]. They match the \"b\" in \"brisket\", and the \"c\" in \"chop\".\n",
    "\n",
    "For example, [abcd-] and [-abcd] match the \"b\" in \"brisket\", the \"c\" in \"chop\", and the \"-\" (hyphen) in \"non-profit\"."
   ]
  },
  {
   "cell_type": "code",
   "execution_count": 47,
   "metadata": {},
   "outputs": [
    {
     "name": "stdout",
     "output_type": "stream",
     "text": [
      "WXth nX rXvXrs Xr wXlls fXr frXsh wXtXr\n"
     ]
    }
   ],
   "source": [
    "var str = \"With no rivers or wells for fresh water\";\n",
    "var regex = /[aeiouy]/g;\n",
    "\n",
    "console.log( str.replace(regex, 'X') );"
   ]
  },
  {
   "cell_type": "code",
   "execution_count": 48,
   "metadata": {},
   "outputs": [
    {
     "name": "stdout",
     "output_type": "stream",
     "text": [
      "Xrisket Xhop nonXprofit\n"
     ]
    }
   ],
   "source": [
    "var str = \"brisket chop non-profit\";\n",
    "var regex = /[a-d-]/g;\n",
    "\n",
    "console.log( str.replace(regex, 'X') );"
   ]
  },
  {
   "cell_type": "markdown",
   "metadata": {},
   "source": [
    "### [^xyz]     \n",
    "### [^a-c]     "
   ]
  },
  {
   "cell_type": "markdown",
   "metadata": {},
   "source": [
    "A negated or complemented character class. That is, it matches anything that is not enclosed in the brackets. You can specify a range of characters by using a hyphen, but if the hyphen appears as the first or last character enclosed in the square brackets it is taken as a literal hyphen to be included in the character class as a normal character. For example, [^abc] is the same as [^a-c]. They initially match \"o\" in \"bacon\" and \"h\" in \"chop\"."
   ]
  },
  {
   "cell_type": "code",
   "execution_count": 50,
   "metadata": {},
   "outputs": [
    {
     "name": "stdout",
     "output_type": "stream",
     "text": [
      "brisketXchopXnonXprofit\n"
     ]
    }
   ],
   "source": [
    "var str = \"brisket chop non-profit\";\n",
    "var regex = /[^a-z]/g;\n",
    "\n",
    "console.log( str.replace(regex, 'X') );"
   ]
  },
  {
   "cell_type": "code",
   "execution_count": 51,
   "metadata": {},
   "outputs": [
    {
     "name": "stdout",
     "output_type": "stream",
     "text": [
      "XXiXXeXXXXoXXXoXXXXoXiX\n"
     ]
    }
   ],
   "source": [
    "var str = \"brisket chop non-profit\";\n",
    "var regex = /[^aeiouy]/g;\n",
    "\n",
    "console.log( str.replace(regex, 'X') );"
   ]
  },
  {
   "cell_type": "markdown",
   "metadata": {},
   "source": [
    "### (x)"
   ]
  },
  {
   "cell_type": "markdown",
   "metadata": {},
   "source": [
    "Capturing group: Matches x and remembers the match. For example, /(foo)/ matches and remembers \"foo\" in \"foo bar\". \n",
    "\n",
    "A regular expression may have multiple capturing groups. In results, matches to capturing groups typically in an array whose members are in the same order as the left parentheses in the capturing group. This is usually just the order of the capturing groups themselves. This becomes important when capturing groups are nested. Matches are accessed using the index of the result's elements ([1], ..., [n]) or from the predefined RegExp object's properties ($1, ..., $9)."
   ]
  },
  {
   "cell_type": "markdown",
   "metadata": {},
   "source": [
    "Without parentheses, the pattern go+ means g character, followed by o repeated one or more times. For instance, goooo or gooooooooo.\n",
    "\n",
    "Parentheses group characters together, so (go)+ means go, gogo, gogogo and so on."
   ]
  },
  {
   "cell_type": "code",
   "execution_count": 59,
   "metadata": {},
   "outputs": [
    {
     "name": "stdout",
     "output_type": "stream",
     "text": [
      "brisket Xp non-profit\n"
     ]
    }
   ],
   "source": [
    "var str = \"brisket cop non-profit\";\n",
    "var regex = /(co)/g;\n",
    "\n",
    "console.log( str.replace(regex, 'X') );"
   ]
  },
  {
   "cell_type": "markdown",
   "metadata": {},
   "source": [
    "### \\n"
   ]
  },
  {
   "cell_type": "markdown",
   "metadata": {},
   "source": [
    "Where \"n\" is a positive integer. \\1 refers to the first capturing group in the regular expression. \\2 will refer to the second capturing group and \\n will refer to an nth capturing group.            \n",
    "Where \"n\" is a positive integer. A back reference to the last substring matching the n parenthetical in the regular expression (counting left parentheses). For example, /apple(,)\\sorange\\1/ matches \"apple, orange,\" in \"apple, orange, cherry, peach\"."
   ]
  },
  {
   "cell_type": "code",
   "execution_count": 61,
   "metadata": {},
   "outputs": [
    {
     "name": "stdout",
     "output_type": "stream",
     "text": [
      "X cherry, peach\n"
     ]
    }
   ],
   "source": [
    "var str = \"apple, orange, cherry, peach\";\n",
    "var regex = /apple(,)\\sorange\\1/;\n",
    "\n",
    "console.log( str.replace(regex, 'X') );"
   ]
  },
  {
   "cell_type": "markdown",
   "metadata": {},
   "source": [
    "# Meta characters"
   ]
  },
  {
   "cell_type": "markdown",
   "metadata": {},
   "source": [
    "### ."
   ]
  },
  {
   "cell_type": "markdown",
   "metadata": {},
   "source": [
    "Find a single character, except newline or line terminator"
   ]
  },
  {
   "cell_type": "code",
   "execution_count": 66,
   "metadata": {},
   "outputs": [
    {
     "name": "stdout",
     "output_type": "stream",
     "text": [
      "TX's X!\n"
     ]
    }
   ],
   "source": [
    "var str = \"That's hot!\";\n",
    "var regex = /h.t/g;\n",
    "\n",
    "console.log( str.replace(regex, 'X') );"
   ]
  },
  {
   "cell_type": "markdown",
   "metadata": {},
   "source": [
    "### \\w"
   ]
  },
  {
   "cell_type": "markdown",
   "metadata": {},
   "source": [
    "Find a word character. A word character is a character a-z, A-Z, 0-9, including _ (underscore)."
   ]
  },
  {
   "cell_type": "code",
   "execution_count": 68,
   "metadata": {},
   "outputs": [
    {
     "name": "stdout",
     "output_type": "stream",
     "text": [
      "XXXX XXX%!\n"
     ]
    }
   ],
   "source": [
    "var str = \"Give 100%!\";\n",
    "var regex  = /\\w/g;\n",
    "\n",
    "console.log( str.replace(regex, 'X') );"
   ]
  },
  {
   "cell_type": "markdown",
   "metadata": {},
   "source": [
    "### \\W"
   ]
  },
  {
   "cell_type": "markdown",
   "metadata": {},
   "source": [
    "Find a non-word character"
   ]
  },
  {
   "cell_type": "code",
   "execution_count": 69,
   "metadata": {},
   "outputs": [
    {
     "name": "stdout",
     "output_type": "stream",
     "text": [
      "GiveX100XX\n"
     ]
    }
   ],
   "source": [
    "var str = \"Give 100%!\";\n",
    "var regex  = /\\W/g;\n",
    "\n",
    "console.log( str.replace(regex, 'X') );"
   ]
  },
  {
   "cell_type": "markdown",
   "metadata": {},
   "source": [
    "### \\d"
   ]
  },
  {
   "cell_type": "markdown",
   "metadata": {},
   "source": [
    "Find a digit"
   ]
  },
  {
   "cell_type": "code",
   "execution_count": 73,
   "metadata": {},
   "outputs": [
    {
     "name": "stdout",
     "output_type": "stream",
     "text": [
      "Give XXX%!\n"
     ]
    }
   ],
   "source": [
    "var str = \"Give 100%!\";\n",
    "var regex  = /\\d/g;\n",
    "\n",
    "console.log( str.replace(regex, 'X') );"
   ]
  },
  {
   "cell_type": "markdown",
   "metadata": {},
   "source": [
    "### \\D"
   ]
  },
  {
   "cell_type": "markdown",
   "metadata": {},
   "source": [
    "Find a non-digit character"
   ]
  },
  {
   "cell_type": "code",
   "execution_count": 74,
   "metadata": {},
   "outputs": [
    {
     "name": "stdout",
     "output_type": "stream",
     "text": [
      "XXXXX100XX\n"
     ]
    }
   ],
   "source": [
    "var str = \"Give 100%!\";\n",
    "var regex  = /\\D/g;\n",
    "\n",
    "console.log( str.replace(regex, 'X') );"
   ]
  },
  {
   "cell_type": "markdown",
   "metadata": {},
   "source": [
    "### \\s"
   ]
  },
  {
   "cell_type": "markdown",
   "metadata": {},
   "source": [
    "Find a whitespace character"
   ]
  },
  {
   "cell_type": "code",
   "execution_count": 75,
   "metadata": {},
   "outputs": [
    {
     "name": "stdout",
     "output_type": "stream",
     "text": [
      "GiveX100%!\n"
     ]
    }
   ],
   "source": [
    "var str = \"Give 100%!\";\n",
    "var regex  = /\\s/g;\n",
    "\n",
    "console.log( str.replace(regex, 'X') );"
   ]
  },
  {
   "cell_type": "markdown",
   "metadata": {},
   "source": [
    "### \\S"
   ]
  },
  {
   "cell_type": "markdown",
   "metadata": {},
   "source": [
    "Find a non-whitespace character"
   ]
  },
  {
   "cell_type": "code",
   "execution_count": 76,
   "metadata": {},
   "outputs": [
    {
     "name": "stdout",
     "output_type": "stream",
     "text": [
      "XXXX XXXXX\n"
     ]
    }
   ],
   "source": [
    "var str = \"Give 100%!\";\n",
    "var regex  = /\\S/g;\n",
    "\n",
    "console.log( str.replace(regex, 'X') );"
   ]
  },
  {
   "cell_type": "markdown",
   "metadata": {},
   "source": [
    "### \\b"
   ]
  },
  {
   "cell_type": "markdown",
   "metadata": {},
   "source": [
    "Find a match at the beginning/end of a word, beginning like this: \\bHI, end like this: HI\\b"
   ]
  },
  {
   "cell_type": "markdown",
   "metadata": {},
   "source": [
    "Search for the pattern LO at the beginning of a word like this:"
   ]
  },
  {
   "cell_type": "code",
   "execution_count": 77,
   "metadata": {},
   "outputs": [
    {
     "name": "stdout",
     "output_type": "stream",
     "text": [
      "HELLO, XOK AT YOU\n"
     ]
    }
   ],
   "source": [
    "var str  = \"HELLO, LOOK AT YOU\";\n",
    "var regex = /\\bLO/;\n",
    "\n",
    "console.log( str.replace(regex, 'X') );"
   ]
  },
  {
   "cell_type": "markdown",
   "metadata": {},
   "source": [
    "Search for the pattern LO at the end of a word like this:"
   ]
  },
  {
   "cell_type": "code",
   "execution_count": 78,
   "metadata": {},
   "outputs": [
    {
     "name": "stdout",
     "output_type": "stream",
     "text": [
      "HELX, LOOK AT YOU\n"
     ]
    }
   ],
   "source": [
    "var str  = \"HELLO, LOOK AT YOU\";\n",
    "var regex = /LO\\b/;\n",
    "\n",
    "console.log( str.replace(regex, 'X') );"
   ]
  },
  {
   "cell_type": "markdown",
   "metadata": {},
   "source": [
    "### \\B"
   ]
  },
  {
   "cell_type": "markdown",
   "metadata": {},
   "source": [
    "Find a match, but not at the beginning/end of a word"
   ]
  },
  {
   "cell_type": "markdown",
   "metadata": {},
   "source": [
    "Search for the pattern LO, not at the beginning of a word like this:"
   ]
  },
  {
   "cell_type": "code",
   "execution_count": 79,
   "metadata": {},
   "outputs": [
    {
     "name": "stdout",
     "output_type": "stream",
     "text": [
      "HELX, LOOK AT YOU\n"
     ]
    }
   ],
   "source": [
    "var str  = \"HELLO, LOOK AT YOU\";\n",
    "var regex = /\\BLO/;\n",
    "\n",
    "console.log( str.replace(regex, 'X') );"
   ]
  },
  {
   "cell_type": "markdown",
   "metadata": {},
   "source": [
    "Search for the pattern LO, not at the end of a word like this:"
   ]
  },
  {
   "cell_type": "code",
   "execution_count": 80,
   "metadata": {},
   "outputs": [
    {
     "name": "stdout",
     "output_type": "stream",
     "text": [
      "HELLO, XOK AT YOU\n"
     ]
    }
   ],
   "source": [
    "var str  = \"HELLO, LOOK AT YOU\";\n",
    "var regex = /LO\\B/;\n",
    "\n",
    "console.log( str.replace(regex, 'X') );"
   ]
  },
  {
   "cell_type": "markdown",
   "metadata": {},
   "source": [
    "### \\0"
   ]
  },
  {
   "cell_type": "markdown",
   "metadata": {},
   "source": [
    "Find a NULL character"
   ]
  },
  {
   "cell_type": "code",
   "execution_count": 81,
   "metadata": {},
   "outputs": [
    {
     "name": "stdout",
     "output_type": "stream",
     "text": [
      "Visit W3Schools.XLearn Javascript.\n"
     ]
    }
   ],
   "source": [
    "var str  = \"Visit W3Schools.\\0Learn Javascript.\";\n",
    "var regex  = /\\0/;\n",
    "\n",
    "console.log( str.replace(regex, 'X') );"
   ]
  },
  {
   "cell_type": "markdown",
   "metadata": {},
   "source": [
    "### \\n"
   ]
  },
  {
   "cell_type": "markdown",
   "metadata": {},
   "source": [
    "Find a new line character"
   ]
  },
  {
   "cell_type": "code",
   "execution_count": 82,
   "metadata": {},
   "outputs": [
    {
     "name": "stdout",
     "output_type": "stream",
     "text": [
      "Visit W3Schools.XLearn Javascript.\n"
     ]
    }
   ],
   "source": [
    "var str  = \"Visit W3Schools.\\nLearn Javascript.\";\n",
    "var regex  = /\\n/;\n",
    "\n",
    "console.log( str.replace(regex, 'X') );"
   ]
  },
  {
   "cell_type": "markdown",
   "metadata": {},
   "source": [
    "### \\f"
   ]
  },
  {
   "cell_type": "markdown",
   "metadata": {},
   "source": [
    "Find a form feed character"
   ]
  },
  {
   "cell_type": "code",
   "execution_count": 83,
   "metadata": {},
   "outputs": [
    {
     "name": "stdout",
     "output_type": "stream",
     "text": [
      "Visit W3Schools.XLearn Javascript.\n"
     ]
    }
   ],
   "source": [
    "var str  = \"Visit W3Schools.\\fLearn Javascript.\";\n",
    "var regex  = /\\f/;\n",
    "\n",
    "console.log( str.replace(regex, 'X') );"
   ]
  },
  {
   "cell_type": "markdown",
   "metadata": {},
   "source": [
    "### \\r"
   ]
  },
  {
   "cell_type": "markdown",
   "metadata": {},
   "source": [
    "Find a carriage return character"
   ]
  },
  {
   "cell_type": "code",
   "execution_count": 84,
   "metadata": {},
   "outputs": [
    {
     "name": "stdout",
     "output_type": "stream",
     "text": [
      "Visit W3Schools.XLearn Javascript.\n"
     ]
    }
   ],
   "source": [
    "var str  = \"Visit W3Schools.\\rLearn Javascript.\";\n",
    "var regex  = /\\r/;\n",
    "\n",
    "console.log( str.replace(regex, 'X') );"
   ]
  },
  {
   "cell_type": "markdown",
   "metadata": {},
   "source": [
    "### \\t"
   ]
  },
  {
   "cell_type": "markdown",
   "metadata": {},
   "source": [
    "Find a tab character"
   ]
  },
  {
   "cell_type": "code",
   "execution_count": null,
   "metadata": {},
   "outputs": [],
   "source": [
    "var str  = \"Visit W3Schools.\\tLearn Javascript.\";\n",
    "var regex  = /\\t/;\n",
    "\n",
    "console.log( str.replace(regex, 'X') );"
   ]
  },
  {
   "cell_type": "markdown",
   "metadata": {},
   "source": [
    "### \\v"
   ]
  },
  {
   "cell_type": "markdown",
   "metadata": {},
   "source": [
    "Find a vertical tab character"
   ]
  },
  {
   "cell_type": "code",
   "execution_count": 85,
   "metadata": {},
   "outputs": [
    {
     "name": "stdout",
     "output_type": "stream",
     "text": [
      "Visit W3Schools.XLearn Javascript.\n"
     ]
    }
   ],
   "source": [
    "var str  = \"Visit W3Schools.\\vLearn Javascript.\";\n",
    "var regex  = /\\v/;\n",
    "\n",
    "console.log( str.replace(regex, 'X') );"
   ]
  },
  {
   "cell_type": "markdown",
   "metadata": {},
   "source": [
    "### \\xxx"
   ]
  },
  {
   "cell_type": "markdown",
   "metadata": {},
   "source": [
    "Find the character specified by an octal number xxx"
   ]
  },
  {
   "cell_type": "code",
   "execution_count": null,
   "metadata": {},
   "outputs": [],
   "source": [
    "Do a global search for octal number 127 (W) in a string:"
   ]
  },
  {
   "cell_type": "code",
   "execution_count": 86,
   "metadata": {},
   "outputs": [
    {
     "name": "stdout",
     "output_type": "stream",
     "text": [
      "Visit X3Schools. Hello Xorld!\n"
     ]
    }
   ],
   "source": [
    "var str  = \"Visit W3Schools. Hello World!\";\n",
    "var regex  = /\\127/g;\n",
    "\n",
    "console.log( str.replace(regex, 'X') );"
   ]
  },
  {
   "cell_type": "markdown",
   "metadata": {},
   "source": [
    "### \\xdd"
   ]
  },
  {
   "cell_type": "markdown",
   "metadata": {},
   "source": [
    "Find the character specified by a hexadecimal number dd"
   ]
  },
  {
   "cell_type": "markdown",
   "metadata": {},
   "source": [
    "Do a global search for the hexadecimal number 57 (W) in a string:"
   ]
  },
  {
   "cell_type": "code",
   "execution_count": 87,
   "metadata": {},
   "outputs": [
    {
     "name": "stdout",
     "output_type": "stream",
     "text": [
      "Visit X3Schools. Hello Xorld!\n"
     ]
    }
   ],
   "source": [
    "var str  = \"Visit W3Schools. Hello World!\";\n",
    "var regex  = /\\x57/g;\n",
    "\n",
    "console.log( str.replace(regex, 'X') );"
   ]
  },
  {
   "cell_type": "markdown",
   "metadata": {},
   "source": [
    "### \\udddd"
   ]
  },
  {
   "cell_type": "markdown",
   "metadata": {},
   "source": [
    "Find the Unicode character specified by a hexadecimal number dddd"
   ]
  },
  {
   "cell_type": "markdown",
   "metadata": {},
   "source": [
    "Do a global search for the hexadecimal number 0057 (W) in a string:"
   ]
  },
  {
   "cell_type": "code",
   "execution_count": 88,
   "metadata": {},
   "outputs": [
    {
     "name": "stdout",
     "output_type": "stream",
     "text": [
      "Visit X3Schools. Hello Xorld!\n"
     ]
    }
   ],
   "source": [
    "var str  = \"Visit W3Schools. Hello World!\";\n",
    "var regex  = /\\u0057/g;\n",
    "\n",
    "console.log( str.replace(regex, 'X') );"
   ]
  },
  {
   "cell_type": "markdown",
   "metadata": {},
   "source": [
    "# Quantifiers"
   ]
  },
  {
   "cell_type": "markdown",
   "metadata": {},
   "source": [
    "### n+"
   ]
  },
  {
   "cell_type": "markdown",
   "metadata": {},
   "source": [
    "Matches any string that contains at least one n"
   ]
  },
  {
   "cell_type": "code",
   "execution_count": 89,
   "metadata": {},
   "outputs": [
    {
     "name": "stdout",
     "output_type": "stream",
     "text": [
      "HellX WXrld! HellX W3SchXls!\n"
     ]
    }
   ],
   "source": [
    "var str  = \"Hellooo World! Hello W3Schools!\";\n",
    "var regex  = /o+/g;\n",
    "\n",
    "console.log( str.replace(regex, 'X') );"
   ]
  },
  {
   "cell_type": "markdown",
   "metadata": {},
   "source": [
    "### n*"
   ]
  },
  {
   "cell_type": "markdown",
   "metadata": {},
   "source": [
    "Matches any string that contains zero or more occurrences of n"
   ]
  },
  {
   "cell_type": "markdown",
   "metadata": {},
   "source": [
    "A global search for a \"1\", followed by zero or more \"0\" characters:"
   ]
  },
  {
   "cell_type": "code",
   "execution_count": 90,
   "metadata": {},
   "outputs": [
    {
     "name": "stdout",
     "output_type": "stream",
     "text": [
      "X, X or X?\n"
     ]
    }
   ],
   "source": [
    "var str  = \"1, 100 or 1000?\";\n",
    "var regex  = /10*/g;\n",
    "\n",
    "console.log( str.replace(regex, 'X') );"
   ]
  },
  {
   "cell_type": "markdown",
   "metadata": {},
   "source": [
    "### n?"
   ]
  },
  {
   "cell_type": "markdown",
   "metadata": {},
   "source": [
    "Matches any string that contains zero or one occurrences of n"
   ]
  },
  {
   "cell_type": "markdown",
   "metadata": {},
   "source": [
    "Do a global search for a \"1\", followed by zero or one \"0\" characters:"
   ]
  },
  {
   "cell_type": "code",
   "execution_count": 91,
   "metadata": {},
   "outputs": [
    {
     "name": "stdout",
     "output_type": "stream",
     "text": [
      "X, X0 or X00?\n"
     ]
    }
   ],
   "source": [
    "var str  = \"1, 100 or 1000?\";\n",
    "var regex  = /10?/g;\n",
    "\n",
    "console.log( str.replace(regex, 'X') );"
   ]
  },
  {
   "cell_type": "markdown",
   "metadata": {},
   "source": [
    "### n{X}"
   ]
  },
  {
   "cell_type": "markdown",
   "metadata": {},
   "source": [
    "Matches any string that contains a sequence of X n's"
   ]
  },
  {
   "cell_type": "code",
   "execution_count": 92,
   "metadata": {},
   "outputs": [
    {
     "name": "stdout",
     "output_type": "stream",
     "text": [
      "100, X or X0?\n"
     ]
    }
   ],
   "source": [
    "var str  = \"100, 1000 or 10000?\";\n",
    "var regex  = /\\d{4}/g;\n",
    "\n",
    "console.log( str.replace(regex, 'X') );"
   ]
  },
  {
   "cell_type": "markdown",
   "metadata": {},
   "source": [
    "### n{X,Y} "
   ]
  },
  {
   "cell_type": "markdown",
   "metadata": {},
   "source": [
    "Matches any string that contains a sequence of X to Y n's"
   ]
  },
  {
   "cell_type": "markdown",
   "metadata": {},
   "source": [
    "A global search for a substring that contains a sequence of three to four digits:"
   ]
  },
  {
   "cell_type": "code",
   "execution_count": 93,
   "metadata": {},
   "outputs": [
    {
     "name": "stdout",
     "output_type": "stream",
     "text": [
      "X, X or X0?\n"
     ]
    }
   ],
   "source": [
    "var str  = \"100, 1000 or 10000?\";\n",
    "var regex  = /\\d{3,4}/g;\n",
    "\n",
    "console.log( str.replace(regex, 'X') );"
   ]
  },
  {
   "cell_type": "markdown",
   "metadata": {},
   "source": [
    "### n{X,}"
   ]
  },
  {
   "cell_type": "markdown",
   "metadata": {},
   "source": [
    "Matches any string that contains a sequence of at least X n's"
   ]
  },
  {
   "cell_type": "markdown",
   "metadata": {},
   "source": [
    "A global search for a sequence of at least three digits:"
   ]
  },
  {
   "cell_type": "code",
   "execution_count": 95,
   "metadata": {},
   "outputs": [
    {
     "name": "stdout",
     "output_type": "stream",
     "text": [
      "10, X, X or X?\n"
     ]
    }
   ],
   "source": [
    "var str  = \"10, 100, 1000 or 10000?\";\n",
    "var regex  = /\\d{3,}/g;\n",
    "\n",
    "console.log( str.replace(regex, 'X') );"
   ]
  },
  {
   "cell_type": "markdown",
   "metadata": {},
   "source": [
    "### n$"
   ]
  },
  {
   "cell_type": "markdown",
   "metadata": {},
   "source": [
    "Matches any string with n at the end of it"
   ]
  },
  {
   "cell_type": "code",
   "execution_count": 96,
   "metadata": {},
   "outputs": [
    {
     "name": "stdout",
     "output_type": "stream",
     "text": [
      "Is this hX\n"
     ]
    }
   ],
   "source": [
    "var str  = \"Is this his\";\n",
    "var regex  = /is$/;\n",
    "\n",
    "console.log( str.replace(regex, 'X') );"
   ]
  },
  {
   "cell_type": "markdown",
   "metadata": {},
   "source": [
    "### ^n"
   ]
  },
  {
   "cell_type": "markdown",
   "metadata": {},
   "source": [
    "Matches any string with n at the beginning of it"
   ]
  },
  {
   "cell_type": "code",
   "execution_count": 97,
   "metadata": {},
   "outputs": [
    {
     "name": "stdout",
     "output_type": "stream",
     "text": [
      "X this his\n"
     ]
    }
   ],
   "source": [
    "var str  = \"Is this his\";\n",
    "var regex  = /^Is/g;\n",
    "\n",
    "console.log( str.replace(regex, 'X') );"
   ]
  },
  {
   "cell_type": "markdown",
   "metadata": {},
   "source": [
    "### ?=n"
   ]
  },
  {
   "cell_type": "markdown",
   "metadata": {},
   "source": [
    "Matches any string that is followed by a specific string n"
   ]
  },
  {
   "cell_type": "markdown",
   "metadata": {},
   "source": [
    "A search for \"is\" followed by \" all\":"
   ]
  },
  {
   "cell_type": "code",
   "execution_count": 98,
   "metadata": {},
   "outputs": [
    {
     "name": "stdout",
     "output_type": "stream",
     "text": [
      "Is thX all there is\n"
     ]
    }
   ],
   "source": [
    "var str  = \"Is this all there is\";\n",
    "var regex  = /is(?= all)/g;\n",
    "\n",
    "console.log( str.replace(regex, 'X') )"
   ]
  },
  {
   "cell_type": "markdown",
   "metadata": {},
   "source": [
    "### ?!n"
   ]
  },
  {
   "cell_type": "markdown",
   "metadata": {},
   "source": [
    "Matches any string that is not followed by a specific string n"
   ]
  },
  {
   "cell_type": "code",
   "execution_count": 99,
   "metadata": {},
   "outputs": [
    {
     "name": "stdout",
     "output_type": "stream",
     "text": [
      "X this all there X\n"
     ]
    }
   ],
   "source": [
    "var str  = \"Is this all there is\";\n",
    "var regex  = /is(?! all)/gi;\n",
    "\n",
    "console.log( str.replace(regex, 'X') )"
   ]
  }
 ],
 "metadata": {
  "kernelspec": {
   "display_name": "Javascript (Node.js)",
   "language": "javascript",
   "name": "javascript"
  },
  "language_info": {
   "file_extension": ".js",
   "mimetype": "application/javascript",
   "name": "javascript",
   "version": "14.18.0"
  }
 },
 "nbformat": 4,
 "nbformat_minor": 5
}
