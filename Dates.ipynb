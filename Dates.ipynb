{
 "cells": [
  {
   "cell_type": "markdown",
   "id": "06a8d3d3",
   "metadata": {},
   "source": [
    "# Date"
   ]
  },
  {
   "cell_type": "markdown",
   "id": "73a2eb68",
   "metadata": {},
   "source": [
    "There are four ways of instantiating a date:"
   ]
  },
  {
   "cell_type": "markdown",
   "id": "07d23e52",
   "metadata": {},
   "source": [
    "var d = new Date();      \n",
    "var d = new Date(milliseconds);     \n",
    "var d = new Date(dateString);     \n",
    "var d = new Date(year, month, day, hours, minutes, seconds, milliseconds);  "
   ]
  },
  {
   "cell_type": "code",
   "execution_count": 1,
   "id": "be8390cd",
   "metadata": {},
   "outputs": [
    {
     "name": "stdout",
     "output_type": "stream",
     "text": [
      "2021-10-07T22:03:36.181Z\n"
     ]
    }
   ],
   "source": [
    "console.log( new Date() );"
   ]
  },
  {
   "cell_type": "code",
   "execution_count": 2,
   "id": "4476031e",
   "metadata": {},
   "outputs": [
    {
     "name": "stdout",
     "output_type": "stream",
     "text": [
      "2021-09-12T17:30:30.000Z\n"
     ]
    }
   ],
   "source": [
    "console.log( new Date(2021, 08, 12, 13, 30,30, 0) );"
   ]
  },
  {
   "cell_type": "code",
   "execution_count": null,
   "id": "0fb5e19d",
   "metadata": {},
   "outputs": [],
   "source": []
  }
 ],
 "metadata": {
  "kernelspec": {
   "display_name": "Javascript (Node.js)",
   "language": "javascript",
   "name": "javascript"
  },
  "language_info": {
   "file_extension": ".js",
   "mimetype": "application/javascript",
   "name": "javascript",
   "version": "14.18.0"
  }
 },
 "nbformat": 4,
 "nbformat_minor": 5
}
